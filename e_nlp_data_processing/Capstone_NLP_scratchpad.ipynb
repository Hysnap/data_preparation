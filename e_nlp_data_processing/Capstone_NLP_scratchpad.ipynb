{
  "cells": [
    {
      "cell_type": "markdown",
      "metadata": {
        "id": "0aStgWSO0E0E"
      },
      "source": [
        "# **Paul Golder - Capstone Project March 2025**"
      ]
    },
    {
      "cell_type": "markdown",
      "metadata": {
        "id": "1eLEkw5O0ECa"
      },
      "source": [
        "## Objectives\n",
        "\n",
        "* This notebook will be used for the development and testing of Natural Language Processing on the Real or Fake news sets\n",
        "\n",
        "## Inputs\n",
        "\n",
        "* Input will be the cleaned, combined_data.csv - generated out of the Extract,Transform processes\n",
        "\n",
        "## Outputs\n",
        "\n",
        "* This book will be used to write a Python script that can be run against any text submitted and provide a confidence score if the text is Real news or Fake news.\n",
        "\n",
        "## Additional Comments\n",
        "\n",
        "* This is my first attempt at implementing NLP, and the core process outline has been taken from the Course's Scikit-learn - Topic 9.\n",
        "* Coding assistance has been provided by CoPilot, and ChatGPT has been used for refactoring and tidying of code."
      ]
    },
    {
      "cell_type": "markdown",
      "metadata": {
        "id": "9uWZXH9LwoQg"
      },
      "source": [
        "---"
      ]
    },
    {
      "cell_type": "markdown",
      "metadata": {
        "id": "cqP-UeN-z3i2"
      },
      "source": [
        "# Change working directory"
      ]
    },
    {
      "cell_type": "code",
      "execution_count": 1,
      "metadata": {
        "id": "wZfF_j-Bz3i4",
        "outputId": "66943449-1436-4c3d-85c7-b85f9f78349b"
      },
      "outputs": [
        {
          "data": {
            "text/plain": [
              "'h:\\\\VScode\\\\CapStoneProject_2025-1\\\\6-nlp_data_processing'"
            ]
          },
          "execution_count": 1,
          "metadata": {},
          "output_type": "execute_result"
        }
      ],
      "source": [
        "import os\n",
        "current_dir = os.getcwd()\n",
        "current_dir"
      ]
    },
    {
      "cell_type": "code",
      "execution_count": 2,
      "metadata": {
        "id": "TwHsQRWjz3i9",
        "outputId": "86849db3-cd2f-4cc5-ebb8-2d0caafa1a2c"
      },
      "outputs": [
        {
          "name": "stdout",
          "output_type": "stream",
          "text": [
            "The file README.md does not exist in the current directory\n",
            "You are in the directory:  h:\\VScode\\CapStoneProject_2025-1\\6-nlp_data_processing\n",
            "Changing current directory to its parent directory\n",
            "You set a new current directory\n",
            "The file README.md exists in the current directory\n"
          ]
        }
      ],
      "source": [
        "# check current directory contains the file README.md\n",
        "if os.path.exists(\"README.md\"):\n",
        "    print(\"The file README.md exists in the current directory\")\n",
        "else:\n",
        "    print(\"The file README.md does not exist in the current directory\")\n",
        "    print(\"You are in the directory: \", current_dir)\n",
        "    print(\"Changing current directory to its parent directory\")\n",
        "    os.chdir(os.path.dirname(current_dir))\n",
        "    print(\"You set a new current directory\")\n",
        "    current_dir = os.getcwd()\n",
        "    if os.path.exists(\"README.md\"):\n",
        "        print(\"The file README.md exists in the current directory\")\n",
        "    else:\n",
        "        RuntimeError(\"The file README.md does not exist in the current directory, please check the current directory\")\n",
        "        print(\"Current Directory =\", current_dir)"
      ]
    },
    {
      "cell_type": "markdown",
      "metadata": {
        "id": "-mavJ8DibrcQ"
      },
      "source": [
        "# NLP - based on course guidance"
      ]
    },
    {
      "cell_type": "markdown",
      "metadata": {},
      "source": [
        "### Packages for NLP"
      ]
    },
    {
      "cell_type": "code",
      "execution_count": null,
      "metadata": {},
      "outputs": [],
      "source": [
        "import numpy as np\n",
        "import pandas as pd\n",
        "from sklearn.model_selection import train_test_split\n",
        "from sklearn.linear_model import SGDClassifier\n",
        "from sklearn.naive_bayes import MultinomialNB\n",
        "from sklearn.svm import SVC\n",
        "from sklearn.svm import LinearSVC\n",
        "from sklearn.model_selection import GridSearchCV\n",
        "from sklearn.pipeline import Pipeline\n",
        "from sklearn.feature_extraction.text import CountVectorizer\n",
        "from sklearn.feature_extraction.text import TfidfTransformer\n",
        "from sklearn.base import BaseEstimator, TransformerMixin\n",
        "from textblob import TextBlob"
      ]
    },
    {
      "cell_type": "markdown",
      "metadata": {},
      "source": [
        "1- LoadData"
      ]
    },
    {
      "cell_type": "code",
      "execution_count": 17,
      "metadata": {},
      "outputs": [
        {
          "data": {
            "application/vnd.microsoft.datawrangler.viewer.v0+json": {
              "columns": [
                {
                  "name": "index",
                  "rawType": "int64",
                  "type": "integer"
                },
                {
                  "name": "title",
                  "rawType": "object",
                  "type": "string"
                },
                {
                  "name": "subject",
                  "rawType": "object",
                  "type": "string"
                },
                {
                  "name": "label",
                  "rawType": "int64",
                  "type": "integer"
                },
                {
                  "name": "media_type",
                  "rawType": "object",
                  "type": "string"
                },
                {
                  "name": "month",
                  "rawType": "int64",
                  "type": "integer"
                },
                {
                  "name": "day",
                  "rawType": "int64",
                  "type": "integer"
                },
                {
                  "name": "year",
                  "rawType": "int64",
                  "type": "integer"
                },
                {
                  "name": "date_clean",
                  "rawType": "object",
                  "type": "string"
                },
                {
                  "name": "day_of_week",
                  "rawType": "object",
                  "type": "string"
                },
                {
                  "name": "week_of_year",
                  "rawType": "int64",
                  "type": "integer"
                },
                {
                  "name": "is_weekend",
                  "rawType": "int64",
                  "type": "integer"
                },
                {
                  "name": "is_weekday",
                  "rawType": "int64",
                  "type": "integer"
                },
                {
                  "name": "week_of_year_sin",
                  "rawType": "float64",
                  "type": "float"
                },
                {
                  "name": "week_of_year_cos",
                  "rawType": "float64",
                  "type": "float"
                },
                {
                  "name": "holiday",
                  "rawType": "int64",
                  "type": "integer"
                },
                {
                  "name": "day_of_month_sine",
                  "rawType": "float64",
                  "type": "float"
                },
                {
                  "name": "day_of_month_cos",
                  "rawType": "float64",
                  "type": "float"
                },
                {
                  "name": "month_sin",
                  "rawType": "float64",
                  "type": "float"
                },
                {
                  "name": "month_cos",
                  "rawType": "float64",
                  "type": "float"
                },
                {
                  "name": "day_label",
                  "rawType": "object",
                  "type": "string"
                },
                {
                  "name": "source",
                  "rawType": "object",
                  "type": "string"
                },
                {
                  "name": "cleaned_text",
                  "rawType": "object",
                  "type": "string"
                },
                {
                  "name": "location",
                  "rawType": "object",
                  "type": "string"
                },
                {
                  "name": "source_name",
                  "rawType": "object",
                  "type": "string"
                },
                {
                  "name": "title_length",
                  "rawType": "int64",
                  "type": "integer"
                },
                {
                  "name": "text_length",
                  "rawType": "int64",
                  "type": "integer"
                }
              ],
              "conversionMethod": "pd.DataFrame",
              "ref": "24c42c2c-291e-4a92-9a40-14faabd4bf04",
              "rows": [
                [
                  "0",
                  "As U.S. budget fight looms, Republicans flip their fiscal script",
                  "politicsNews",
                  "1",
                  "twitter",
                  "12",
                  "31",
                  "2017",
                  "2017-12-31",
                  "Sunday",
                  "52",
                  "1",
                  "0",
                  "6.432490598706546e-16",
                  "1.0",
                  "0",
                  "-2.4492935982947064e-16",
                  "1.0",
                  "-2.4492935982947064e-16",
                  "1.0",
                  "Sunday",
                  "WASHINGTON (Reuters) -",
                  "The head of a conservative Republican faction in the U.S. Congress, who voted this month for a huge expansion of the national debt to pay for tax cuts, called himself a “fiscal conservative” on Sunday and urged budget restraint in 2018. In keeping with a sharp pivot under way among Republicans, U.S. Representative Mark Meadows, speaking on CBS’ “Face the Nation,” drew a hard line on federal spending, which lawmakers are bracing to do battle over in January. When they return from the holidays on Wednesday, lawmakers will begin trying to pass a federal budget in a fight likely to be linked to other issues, such as immigration policy, even as the November congressional election campaigns approach in which Republicans will seek to keep control of Congress. President Donald Trump and his Republicans want a big budget increase in military spending, while Democrats also want proportional increases for non-defense “discretionary” spending on programs that support education, scientific research, infrastructure, public health and environmental protection. “The (Trump) administration has already been willing to say: ‘We’re going to increase non-defense discretionary spending ... by about 7 percent,’” Meadows, chairman of the small but influential House Freedom Caucus, said on the program. “Now, Democrats are saying that’s not enough, we need to give the government a pay raise of 10 to 11 percent. For a fiscal conservative, I don’t see where the rationale is. ... Eventually you run out of other people’s money,” he said. Meadows was among Republicans who voted in late December for their party’s debt-financed tax overhaul, which is expected to balloon the federal budget deficit and add about $1.5 trillion over 10 years to the $20 trillion national debt. “It’s interesting to hear Mark talk about fiscal responsibility,” Democratic U.S. Representative Joseph Crowley said on CBS. Crowley said the Republican tax bill would require the  United States to borrow $1.5 trillion, to be paid off by future generations, to finance tax cuts for corporations and the rich. “This is one of the least ... fiscally responsible bills we’ve ever seen passed in the history of the House of Representatives. I think we’re going to be paying for this for many, many years to come,” Crowley said. Republicans insist the tax package, the biggest U.S. tax overhaul in more than 30 years,  will boost the economy and job growth. House Speaker Paul Ryan, who also supported the tax bill, recently went further than Meadows, making clear in a radio interview that welfare or “entitlement reform,” as the party often calls it, would be a top Republican priority in 2018. In Republican parlance, “entitlement” programs mean food stamps, housing assistance, Medicare and Medicaid health insurance for the elderly, poor and disabled, as well as other programs created by Washington to assist the needy. Democrats seized on Ryan’s early December remarks, saying they showed Republicans would try to pay for their tax overhaul by seeking spending cuts for social programs. But the goals of House Republicans may have to take a back seat to the Senate, where the votes of some Democrats will be needed to approve a budget and prevent a government shutdown. Democrats will use their leverage in the Senate, which Republicans narrowly control, to defend both discretionary non-defense programs and social spending, while tackling the issue of the “Dreamers,” people brought illegally to the country as children. Trump in September put a March 2018 expiration date on the Deferred Action for Childhood Arrivals, or DACA, program, which protects the young immigrants from deportation and provides them with work permits. The president has said in recent Twitter messages he wants funding for his proposed Mexican border wall and other immigration law changes in exchange for agreeing to help the Dreamers. Representative Debbie Dingell told CBS she did not favor linking that issue to other policy objectives, such as wall funding. “We need to do DACA clean,” she said.  On Wednesday, Trump aides will meet with congressional leaders to discuss those issues. That will be followed by a weekend of strategy sessions for Trump and Republican leaders on Jan. 6 and 7, the White House said. Trump was also scheduled to meet on Sunday with Florida Republican Governor Rick Scott, who wants more emergency aid. The House has passed an $81 billion aid package after hurricanes in Florida, Texas and Puerto Rico, and wildfires in California. The package far exceeded the $44 billion requested by the Trump administration. The Senate has not yet voted on the aid.",
                  "['WASHINGTON']",
                  "Reuters",
                  "64",
                  "4635"
                ],
                [
                  "1",
                  "U.S. military to accept transgender recruits on Monday: Pentagon",
                  "politicsNews",
                  "1",
                  "twitter",
                  "12",
                  "29",
                  "2017",
                  "2017-12-29",
                  "Friday",
                  "52",
                  "0",
                  "1",
                  "6.432490598706546e-16",
                  "1.0",
                  "0",
                  "-0.3943558551133187",
                  "0.9189578116202306",
                  "-2.4492935982947064e-16",
                  "1.0",
                  "Friday",
                  "WASHINGTON (Reuters) -",
                  "Transgender people will be allowed for the first time to enlist in the U.S. military starting on Monday as ordered by federal courts, the Pentagon said on Friday, after President Donald Trump’s administration decided not to appeal rulings that blocked his transgender ban. Two federal appeals courts, one in Washington and one in Virginia, last week rejected the administration’s request to put on hold orders by lower court judges requiring the military to begin accepting transgender recruits on Jan. 1. A Justice Department official said the administration will not challenge those rulings. “The Department of Defense has announced that it will be releasing an independent study of these issues in the coming weeks. So rather than litigate this interim appeal before that occurs, the administration has decided to wait for DOD’s study and will continue to defend the president’s lawful authority in District Court in the meantime,” the official said, speaking on condition of anonymity. In September, the Pentagon said it had created a panel of senior officials to study how to implement a directive by Trump to prohibit transgender individuals from serving. The Defense Department has until Feb. 21 to submit a plan to Trump. Lawyers representing currently-serving transgender service members and aspiring recruits said they had expected the administration to appeal the rulings to the conservative-majority Supreme Court, but were hoping that would not happen. Pentagon spokeswoman Heather Babb said in a statement: “As mandated by court order, the Department of Defense is prepared to begin accessing transgender applicants for military service Jan. 1. All applicants must meet all accession standards.” Jennifer Levi, a lawyer with gay, lesbian and transgender advocacy group GLAD, called the decision not to appeal “great news.” “I’m hoping it means the government has come to see that there is no way to justify a ban and that it’s not good for the military or our country,” Levi said. Both GLAD and the American Civil Liberties Union represent plaintiffs in the lawsuits filed against the administration. In a move that appealed to his hard-line conservative supporters, Trump announced in July that he would prohibit transgender people from serving in the military, reversing Democratic President Barack Obama’s policy of accepting them. Trump said on Twitter at the time that the military “cannot be burdened with the tremendous medical costs and disruption that transgender in the military would entail.” Four federal judges - in Baltimore, Washington, D.C., Seattle and Riverside, California - have issued rulings blocking Trump’s ban while legal challenges to the Republican president’s policy proceed. The judges said the ban would likely violate the right under the U.S. Constitution to equal protection under the law. The Pentagon on Dec. 8 issued guidelines to recruitment personnel in order to enlist transgender applicants by Jan. 1. The memo outlined medical requirements and specified how the applicants’ sex would be identified and even which undergarments they would wear. The Trump administration previously said in legal papers that the armed forces were not prepared to train thousands of personnel on the medical standards needed to process transgender applicants and might have to accept “some individuals who are not medically fit for service.” The Obama administration had set a deadline of July 1, 2017, to begin accepting transgender recruits. But Trump’s defense secretary, James Mattis, postponed that date to Jan. 1, 2018, which the president’s ban then put off indefinitely. Trump has taken other steps aimed at rolling back transgender rights. In October, his administration said a federal law banning gender-based workplace discrimination does not protect transgender employees, reversing another Obama-era position. In February, Trump rescinded guidance issued by the Obama administration saying that public schools should allow transgender students to use the restroom that corresponds to their gender identity.",
                  "['WASHINGTON']",
                  "Reuters",
                  "64",
                  "4053"
                ],
                [
                  "2",
                  "Senior U.S. Republican senator: 'Let Mr. Mueller do his job'",
                  "politicsNews",
                  "1",
                  "text",
                  "12",
                  "31",
                  "2017",
                  "2017-12-31",
                  "Sunday",
                  "52",
                  "1",
                  "0",
                  "6.432490598706546e-16",
                  "1.0",
                  "0",
                  "-2.4492935982947064e-16",
                  "1.0",
                  "-2.4492935982947064e-16",
                  "1.0",
                  "Sunday",
                  "WASHINGTON (Reuters) -",
                  "The special counsel investigation of links between Russia and President Trump’s 2016 election campaign should continue without interference in 2018, despite calls from some Trump administration allies and Republican lawmakers to shut it down, a prominent Republican senator said on Sunday. Lindsey Graham, who serves on the Senate armed forces and judiciary committees, said Department of Justice Special Counsel Robert Mueller needs to carry on with his Russia investigation without political interference. “This investigation will go forward. It will be an investigation conducted without political influence,” Graham said on CBS’s Face the Nation news program. “And we all need to let Mr. Mueller do his job. I think he’s the right guy at the right time.”  The question of how Russia may have interfered in the election, and how Trump’s campaign may have had links with or co-ordinated any such effort, has loomed over the White House since Trump took office in January. It shows no sign of receding as Trump prepares for his second year in power, despite intensified rhetoric from some Trump allies in recent weeks accusing Mueller’s team of bias against the Republican president. Trump himself seemed to undercut his supporters in an interview last week with the New York Times in which he said he expected Mueller was “going to be fair.”    Russia’s role in the election and the question of possible links to the Trump campaign are the focus of multiple inquiries in Washington. Three committees of the Senate and the House of Representatives are investigating, as well as Mueller, whose team in May took over an earlier probe launched by the U.S. Federal Bureau of Investigation (FBI). Several members of the Trump campaign and administration have been convicted or indicted in the investigation.  Trump and his allies deny any collusion with Russia during the campaign, and the Kremlin has denied meddling in the election. Graham said he still wants an examination of the FBI’s use of a dossier on links between Trump and Russia that was compiled by a former British spy, Christopher Steele, which prompted Trump allies and some Republicans to question Mueller’s inquiry.   On Saturday, the New York Times reported that it was not that dossier that triggered an early FBI probe, but a tip from former Trump campaign foreign policy adviser George Papadopoulos to an Australian diplomat that Russia had damaging information about former Trump rival Hillary Clinton.  “I want somebody to look at the way the Department of Justice used this dossier. It bothers me greatly the way they used it, and I want somebody to look at it,” Graham said. But he said the Russia investigation must continue. “As a matter of fact, it would hurt us if we ignored it,” he said.",
                  "['WASHINGTON']",
                  "Reuters",
                  "60",
                  "2765"
                ],
                [
                  "3",
                  "FBI Russia probe helped by Australian diplomat tip-off: NYT",
                  "politicsNews",
                  "1",
                  "text",
                  "12",
                  "30",
                  "2017",
                  "2017-12-30",
                  "Saturday",
                  "52",
                  "1",
                  "0",
                  "6.432490598706546e-16",
                  "1.0",
                  "0",
                  "-0.2012985200886611",
                  "0.9795299412524944",
                  "-2.4492935982947064e-16",
                  "1.0",
                  "Saturday",
                  "WASHINGTON (Reuters) -",
                  "Trump campaign adviser George Papadopoulos told an Australian diplomat in May 2016 that Russia had political dirt on Democratic presidential candidate Hillary Clinton, the New York Times reported on Saturday. The conversation between Papadopoulos and the diplomat, Alexander Downer, in London was a driving factor behind the FBI’s decision to open a counter-intelligence investigation of Moscow’s contacts with the Trump campaign, the Times reported. Two months after the meeting, Australian officials passed the information that came from Papadopoulos to their American counterparts when leaked Democratic emails began appearing online, according to the newspaper, which cited four current and former U.S. and foreign officials. Besides the information from the Australians, the probe by the Federal Bureau of Investigation was also propelled by intelligence from other friendly governments, including the British and Dutch, the Times said. Papadopoulos, a Chicago-based international energy lawyer, pleaded guilty on Oct. 30 to lying to FBI agents about contacts with people who claimed to have ties to top Russian officials. It was the first criminal charge alleging links between the Trump campaign and Russia. The White House has played down the former aide’s campaign role, saying it was “extremely limited” and that any actions he took would have been on his own. The New York Times, however, reported that Papadopoulos helped set up a meeting between then-candidate Donald Trump and Egyptian President Abdel Fattah al-Sisi and edited the outline of Trump’s first major foreign policy speech in April 2016. The federal investigation, which is now being led by Special Counsel Robert Mueller, has hung over Trump’s White House since he took office almost a year ago. Some Trump allies have recently accused Mueller’s team of being biased against the Republican president. Lawyers for Papadopoulos did not immediately respond to requests by Reuters for comment. Mueller’s office declined to comment. Trump’s White House attorney, Ty Cobb, declined to comment on the New York Times report. “Out of respect for the special counsel and his process, we are not commenting on matters such as this,” he said in a statement. Mueller has charged four Trump associates, including Papadopoulos, in his investigation. Russia has denied interfering in the U.S. election and Trump has said there was no collusion between his campaign and Moscow.",
                  "['WASHINGTON']",
                  "Reuters",
                  "59",
                  "2437"
                ],
                [
                  "4",
                  "Trump wants Postal Service to charge 'much more' for Amazon shipments",
                  "politicsNews",
                  "1",
                  "twitter",
                  "12",
                  "29",
                  "2017",
                  "2017-12-29",
                  "Friday",
                  "52",
                  "0",
                  "1",
                  "6.432490598706546e-16",
                  "1.0",
                  "0",
                  "-0.3943558551133187",
                  "0.9189578116202306",
                  "-2.4492935982947064e-16",
                  "1.0",
                  "Friday",
                  "SEATTLE/WASHINGTON (Reuters) -",
                  "President Donald Trump called on the U.S. Postal Service on Friday to charge “much more” to ship packages for Amazon (AMZN.O), picking another fight with an online retail giant he has criticized in the past.     “Why is the United States Post Office, which is losing many billions of dollars a year, while charging Amazon and others so little to deliver their packages, making Amazon richer and the Post Office dumber and poorer? Should be charging MUCH MORE!” Trump wrote on Twitter.  The president’s tweet drew fresh attention to the fragile finances of the Postal Service at a time when tens of millions of parcels have just been shipped all over the country for the holiday season.  The U.S. Postal Service, which runs at a big loss, is an independent agency within the federal government and does not receive tax dollars for operating expenses, according to its website.  Package delivery has become an increasingly important part of its business as the Internet has led to a sharp decline in the amount of first-class letters. The president does not determine postal rates. They are set by the Postal Regulatory Commission, an independent government agency with commissioners selected by the president from both political parties. That panel raised prices on packages by almost 2 percent in November.  Amazon was founded by Jeff Bezos, who remains the chief executive officer of the retail company and is the richest person in the world, according to Bloomberg News. Bezos also owns The Washington Post, a newspaper Trump has repeatedly railed against in his criticisms of the news media. In tweets over the past year, Trump has said the “Amazon Washington Post” fabricated stories. He has said Amazon does not pay sales tax, which is not true, and so hurts other retailers, part of a pattern by the former businessman and reality television host of periodically turning his ire on big American companies since he took office in January. Daniel Ives, a research analyst at GBH Insights, said Trump’s comment could be taken as a warning to the retail giant. However, he said he was not concerned for Amazon. “We do not see any price hikes in the future. However, that is a risk that Amazon is clearly aware of and (it) is building out its distribution (system) aggressively,” he said. Amazon has shown interest in the past in shifting into its own delivery service, including testing drones for deliveries. In 2015, the company spent $11.5 billion on shipping, 46 percent of its total operating expenses that year.  Amazon shares were down 0.86 percent to $1,175.90 by early afternoon. Overall, U.S. stock prices were down slightly on Friday.  Satish Jindel, president of ShipMatrix Inc, which analyzes shipping data, disputed the idea that the Postal Service charges less than United Parcel Service Inc (UPS.N) and FedEx Corp (FDX.N), the other biggest players in the parcel delivery business in the United States. Many customers get lower rates from UPS and FedEx than they would get from the post office for comparable services, he said. The Postal Service delivers about 62 percent of Amazon packages, for about 3.5 to 4 million a day during the current peak year-end holiday shipping season, Jindel said. The Seattle-based company and the post office have an agreement in which mail carriers take Amazon packages on the last leg of their journeys, from post offices to customers’ doorsteps. Amazon’s No. 2 carrier is UPS, at 21 percent, and FedEx is third, with 8 percent or so, according to Jindel. Trump’s comment tapped into a debate over whether Postal Service pricing has kept pace with the rise of e-commerce, which has flooded the mail with small packages.Private companies like UPS have long claimed the current system unfairly undercuts their business. Steve Gaut, a spokesman for UPS, noted that the company values its “productive relationship” with the postal service, but that it has filed with the Postal Regulatory Commission its concerns about the postal service’s methods for covering costs. Representatives for Amazon, the White House, the U.S. Postal Service and FedEx declined comment or were not immediately available for comment on Trump’s tweet. According to its annual report, the Postal Service lost $2.74 billion this year, and its deficit has ballooned to $61.86 billion.  While the Postal Service’s revenue for first class mail, marketing mail and periodicals is flat or declining, revenue from package delivery is up 44 percent since 2014 to $19.5 billion in the fiscal year ended Sept. 30, 2017. But it also lost about $2 billion in revenue when a temporary surcharge expired in April 2016. According to a Government Accountability Office report in February, the service is facing growing personnel expenses, particularly $73.4 billion in unfunded pension and benefits liabilities. The Postal Service has not announced any plans to cut costs. By law, the Postal Service has to set prices for package delivery to cover the costs attributable to that service. But the postal service allocates only 5.5 percent of its total costs to its business of shipping packages even though that line of business is 28 percent of its total revenue.",
                  "['SEATTLE', 'WASHINGTON']",
                  "Reuters",
                  "69",
                  "5172"
                ]
              ],
              "shape": {
                "columns": 26,
                "rows": 5
              }
            },
            "text/html": [
              "<div>\n",
              "<style scoped>\n",
              "    .dataframe tbody tr th:only-of-type {\n",
              "        vertical-align: middle;\n",
              "    }\n",
              "\n",
              "    .dataframe tbody tr th {\n",
              "        vertical-align: top;\n",
              "    }\n",
              "\n",
              "    .dataframe thead th {\n",
              "        text-align: right;\n",
              "    }\n",
              "</style>\n",
              "<table border=\"1\" class=\"dataframe\">\n",
              "  <thead>\n",
              "    <tr style=\"text-align: right;\">\n",
              "      <th></th>\n",
              "      <th>title</th>\n",
              "      <th>subject</th>\n",
              "      <th>label</th>\n",
              "      <th>media_type</th>\n",
              "      <th>month</th>\n",
              "      <th>day</th>\n",
              "      <th>year</th>\n",
              "      <th>date_clean</th>\n",
              "      <th>day_of_week</th>\n",
              "      <th>week_of_year</th>\n",
              "      <th>...</th>\n",
              "      <th>day_of_month_cos</th>\n",
              "      <th>month_sin</th>\n",
              "      <th>month_cos</th>\n",
              "      <th>day_label</th>\n",
              "      <th>source</th>\n",
              "      <th>cleaned_text</th>\n",
              "      <th>location</th>\n",
              "      <th>source_name</th>\n",
              "      <th>title_length</th>\n",
              "      <th>text_length</th>\n",
              "    </tr>\n",
              "  </thead>\n",
              "  <tbody>\n",
              "    <tr>\n",
              "      <th>0</th>\n",
              "      <td>As U.S. budget fight looms, Republicans flip t...</td>\n",
              "      <td>politicsNews</td>\n",
              "      <td>1</td>\n",
              "      <td>twitter</td>\n",
              "      <td>12</td>\n",
              "      <td>31</td>\n",
              "      <td>2017</td>\n",
              "      <td>2017-12-31</td>\n",
              "      <td>Sunday</td>\n",
              "      <td>52</td>\n",
              "      <td>...</td>\n",
              "      <td>1.000000</td>\n",
              "      <td>-2.449294e-16</td>\n",
              "      <td>1.0</td>\n",
              "      <td>Sunday</td>\n",
              "      <td>WASHINGTON (Reuters) -</td>\n",
              "      <td>The head of a conservative Republican faction ...</td>\n",
              "      <td>['WASHINGTON']</td>\n",
              "      <td>Reuters</td>\n",
              "      <td>64</td>\n",
              "      <td>4635</td>\n",
              "    </tr>\n",
              "    <tr>\n",
              "      <th>1</th>\n",
              "      <td>U.S. military to accept transgender recruits o...</td>\n",
              "      <td>politicsNews</td>\n",
              "      <td>1</td>\n",
              "      <td>twitter</td>\n",
              "      <td>12</td>\n",
              "      <td>29</td>\n",
              "      <td>2017</td>\n",
              "      <td>2017-12-29</td>\n",
              "      <td>Friday</td>\n",
              "      <td>52</td>\n",
              "      <td>...</td>\n",
              "      <td>0.918958</td>\n",
              "      <td>-2.449294e-16</td>\n",
              "      <td>1.0</td>\n",
              "      <td>Friday</td>\n",
              "      <td>WASHINGTON (Reuters) -</td>\n",
              "      <td>Transgender people will be allowed for the fir...</td>\n",
              "      <td>['WASHINGTON']</td>\n",
              "      <td>Reuters</td>\n",
              "      <td>64</td>\n",
              "      <td>4053</td>\n",
              "    </tr>\n",
              "    <tr>\n",
              "      <th>2</th>\n",
              "      <td>Senior U.S. Republican senator: 'Let Mr. Muell...</td>\n",
              "      <td>politicsNews</td>\n",
              "      <td>1</td>\n",
              "      <td>text</td>\n",
              "      <td>12</td>\n",
              "      <td>31</td>\n",
              "      <td>2017</td>\n",
              "      <td>2017-12-31</td>\n",
              "      <td>Sunday</td>\n",
              "      <td>52</td>\n",
              "      <td>...</td>\n",
              "      <td>1.000000</td>\n",
              "      <td>-2.449294e-16</td>\n",
              "      <td>1.0</td>\n",
              "      <td>Sunday</td>\n",
              "      <td>WASHINGTON (Reuters) -</td>\n",
              "      <td>The special counsel investigation of links bet...</td>\n",
              "      <td>['WASHINGTON']</td>\n",
              "      <td>Reuters</td>\n",
              "      <td>60</td>\n",
              "      <td>2765</td>\n",
              "    </tr>\n",
              "    <tr>\n",
              "      <th>3</th>\n",
              "      <td>FBI Russia probe helped by Australian diplomat...</td>\n",
              "      <td>politicsNews</td>\n",
              "      <td>1</td>\n",
              "      <td>text</td>\n",
              "      <td>12</td>\n",
              "      <td>30</td>\n",
              "      <td>2017</td>\n",
              "      <td>2017-12-30</td>\n",
              "      <td>Saturday</td>\n",
              "      <td>52</td>\n",
              "      <td>...</td>\n",
              "      <td>0.979530</td>\n",
              "      <td>-2.449294e-16</td>\n",
              "      <td>1.0</td>\n",
              "      <td>Saturday</td>\n",
              "      <td>WASHINGTON (Reuters) -</td>\n",
              "      <td>Trump campaign adviser George Papadopoulos tol...</td>\n",
              "      <td>['WASHINGTON']</td>\n",
              "      <td>Reuters</td>\n",
              "      <td>59</td>\n",
              "      <td>2437</td>\n",
              "    </tr>\n",
              "    <tr>\n",
              "      <th>4</th>\n",
              "      <td>Trump wants Postal Service to charge 'much mor...</td>\n",
              "      <td>politicsNews</td>\n",
              "      <td>1</td>\n",
              "      <td>twitter</td>\n",
              "      <td>12</td>\n",
              "      <td>29</td>\n",
              "      <td>2017</td>\n",
              "      <td>2017-12-29</td>\n",
              "      <td>Friday</td>\n",
              "      <td>52</td>\n",
              "      <td>...</td>\n",
              "      <td>0.918958</td>\n",
              "      <td>-2.449294e-16</td>\n",
              "      <td>1.0</td>\n",
              "      <td>Friday</td>\n",
              "      <td>SEATTLE/WASHINGTON (Reuters) -</td>\n",
              "      <td>President Donald Trump called on the U.S. Post...</td>\n",
              "      <td>['SEATTLE', 'WASHINGTON']</td>\n",
              "      <td>Reuters</td>\n",
              "      <td>69</td>\n",
              "      <td>5172</td>\n",
              "    </tr>\n",
              "  </tbody>\n",
              "</table>\n",
              "<p>5 rows × 26 columns</p>\n",
              "</div>"
            ],
            "text/plain": [
              "                                               title       subject  label  \\\n",
              "0  As U.S. budget fight looms, Republicans flip t...  politicsNews      1   \n",
              "1  U.S. military to accept transgender recruits o...  politicsNews      1   \n",
              "2  Senior U.S. Republican senator: 'Let Mr. Muell...  politicsNews      1   \n",
              "3  FBI Russia probe helped by Australian diplomat...  politicsNews      1   \n",
              "4  Trump wants Postal Service to charge 'much mor...  politicsNews      1   \n",
              "\n",
              "  media_type  month  day  year  date_clean day_of_week  week_of_year  ...  \\\n",
              "0    twitter     12   31  2017  2017-12-31      Sunday            52  ...   \n",
              "1    twitter     12   29  2017  2017-12-29      Friday            52  ...   \n",
              "2       text     12   31  2017  2017-12-31      Sunday            52  ...   \n",
              "3       text     12   30  2017  2017-12-30    Saturday            52  ...   \n",
              "4    twitter     12   29  2017  2017-12-29      Friday            52  ...   \n",
              "\n",
              "   day_of_month_cos     month_sin  month_cos  day_label  \\\n",
              "0          1.000000 -2.449294e-16        1.0     Sunday   \n",
              "1          0.918958 -2.449294e-16        1.0     Friday   \n",
              "2          1.000000 -2.449294e-16        1.0     Sunday   \n",
              "3          0.979530 -2.449294e-16        1.0   Saturday   \n",
              "4          0.918958 -2.449294e-16        1.0     Friday   \n",
              "\n",
              "                           source  \\\n",
              "0          WASHINGTON (Reuters) -   \n",
              "1          WASHINGTON (Reuters) -   \n",
              "2          WASHINGTON (Reuters) -   \n",
              "3          WASHINGTON (Reuters) -   \n",
              "4  SEATTLE/WASHINGTON (Reuters) -   \n",
              "\n",
              "                                        cleaned_text  \\\n",
              "0  The head of a conservative Republican faction ...   \n",
              "1  Transgender people will be allowed for the fir...   \n",
              "2  The special counsel investigation of links bet...   \n",
              "3  Trump campaign adviser George Papadopoulos tol...   \n",
              "4  President Donald Trump called on the U.S. Post...   \n",
              "\n",
              "                    location  source_name  title_length text_length  \n",
              "0             ['WASHINGTON']      Reuters            64        4635  \n",
              "1             ['WASHINGTON']      Reuters            64        4053  \n",
              "2             ['WASHINGTON']      Reuters            60        2765  \n",
              "3             ['WASHINGTON']      Reuters            59        2437  \n",
              "4  ['SEATTLE', 'WASHINGTON']      Reuters            69        5172  \n",
              "\n",
              "[5 rows x 26 columns]"
            ]
          },
          "execution_count": 17,
          "metadata": {},
          "output_type": "execute_result"
        }
      ],
      "source": [
        "Source_data = \"data/combined_data.zip\"\n",
        "\n",
        "# Import source_data to a pandas DataFrame\n",
        "import pandas as pd\n",
        "source_df = pd.read_csv(Source_data)\n",
        "source_df.head()\n"
      ]
    },
    {
      "cell_type": "markdown",
      "metadata": {},
      "source": [
        "2- Split Data"
      ]
    },
    {
      "cell_type": "code",
      "execution_count": null,
      "metadata": {},
      "outputs": [
        {
          "name": "stdout",
          "output_type": "stream",
          "text": [
            "(35882,) (35882,) (8971,) (8971,)\n"
          ]
        }
      ],
      "source": []
    },
    {
      "cell_type": "code",
      "execution_count": null,
      "metadata": {},
      "outputs": [],
      "source": [
        "import numpy as np\n",
        "import pandas as pd\n",
        "from sklearn.model_selection import train_test_split\n",
        "from sklearn.linear_model import SGDClassifier\n",
        "from sklearn.naive_bayes import MultinomialNB\n",
        "from sklearn.svm import SVC\n",
        "from sklearn.svm import LinearSVC\n",
        "from sklearn.model_selection import GridSearchCV\n",
        "from sklearn.pipeline import Pipeline\n",
        "from sklearn.feature_extraction.text import CountVectorizer\n",
        "from sklearn.feature_extraction.text import TfidfTransformer\n",
        "from sklearn.base import BaseEstimator, TransformerMixin\n",
        "from textblob import TextBlob\n",
        "\n",
        "# Split the data into training and test sets\n",
        "\n",
        "X_train, X_test, y_train, y_test = train_test_split(source_df['cleaned_text'], source_df['label'],\n",
        "                                                    test_size=0.2, random_state=101)\n",
        "\n",
        "print(X_train.shape, y_train.shape, X_test.shape, y_test.shape)\n",
        "\n",
        "\n",
        "class text_cleaning(BaseEstimator, TransformerMixin):\n",
        "\n",
        "    def __init__(self ):\n",
        "        pass\n",
        "\n",
        "    def fit(self, X, y=None):\n",
        "        return self  # No fitting necessary, return self\n",
        "\n",
        "    def transform(self, X):\n",
        "        if isinstance(X, pd.Series):\n",
        "            X = X.astype(str).fillna('')  # Convert to string and replace NaN with empty string\n",
        "        else:\n",
        "            X = pd.Series(X, dtype=str).fillna('')\n",
        "        \n",
        "        X = X.str.lower()  # Convert to lowercase\n",
        "        X = X.str.replace(r\"[^\\w\\s]\", \"\", regex=True)  # Remove punctuation\n",
        "        return X\n",
        "\n",
        "\n",
        "def PipelineOptimization(model, params=None):\n",
        "    pipeline = Pipeline([\n",
        "        ('text_cleaning', text_cleaning()),\n",
        "        ('vect', CountVectorizer(stop_words='english')),\n",
        "        ('tfidf', TfidfTransformer()),\n",
        "        ('model', model)\n",
        "    ])\n",
        "    \n",
        "    if params:\n",
        "        return GridSearchCV(pipeline, params, cv=2, n_jobs=-2, verbose=1, scoring='accuracy')\n",
        "    \n",
        "    return pipeline\n",
        "\n",
        "class HyperparameterOptimizationSearch:\n",
        "    def __init__(self, models, params):\n",
        "        self.models = models\n",
        "        self.params = params\n",
        "        self.keys = models.keys()\n",
        "        self.grid_searches = {}\n",
        "\n",
        "    def fit(self, X, y, cv, n_jobs, verbose=1, scoring=None, refit=False):\n",
        "        for key in self.keys:\n",
        "            print(f\"\\nRunning GridSearchCV for {key} \\n\")\n",
        "            model=  PipelineOptimization(self.models[key])\n",
        "\n",
        "            params = self.params[key]\n",
        "            gs = GridSearchCV(model, params, cv=cv, n_jobs=n_jobs, verbose=verbose, scoring=scoring)\n",
        "            gs.fit(X,y)\n",
        "            self.grid_searches[key] = gs    \n",
        "\n",
        "    def score_summary(self, sort_by='mean_score'):\n",
        "        def row(key, scores, params):\n",
        "            d = {\n",
        "                 'estimator': key,\n",
        "                 'min_score': min(scores),\n",
        "                 'max_score': max(scores),\n",
        "                 'mean_score': np.mean(scores),\n",
        "                 'std_score': np.std(scores),\n",
        "            }\n",
        "            return pd.Series({**params,**d})\n",
        "\n",
        "        rows = []\n",
        "        for k in self.grid_searches:\n",
        "            params = self.grid_searches[k].cv_results_['params']\n",
        "            scores = []\n",
        "            for i in range(self.grid_searches[k].cv):\n",
        "                key = \"split{}_test_score\".format(i)\n",
        "                r = self.grid_searches[k].cv_results_[key]        \n",
        "                scores.append(r.reshape(len(params),1))\n",
        "\n",
        "            all_scores = np.hstack(scores)\n",
        "            for p, s in zip(params,all_scores):\n",
        "                rows.append((row(k, s, p)))\n",
        "\n",
        "        df = pd.concat(rows, axis=1).T.sort_values([sort_by], ascending=False)\n",
        "\n",
        "        columns = ['estimator', 'min_score', 'mean_score', 'max_score', 'std_score']\n",
        "        columns = columns + [c for c in df.columns if c not in columns]\n",
        "\n",
        "        return df[columns], self.grid_searches\n",
        "\n",
        "\n",
        "models_search = {\n",
        "    #\"MultinomialNB\":MultinomialNB(),\n",
        "    \"SGDClassifier\":SGDClassifier(random_state=101),\n",
        "   # \"SVC\": SVC(random_state=101),\n",
        "    \"LinearSVC\": LinearSVC(random_state=101),\n",
        "}\n",
        "\n",
        "params_search = {\n",
        "   # \"MultinomialNB\":{},\n",
        "    \"SGDClassifier\": {},\n",
        "   # \"SVC\": {},\n",
        "    \"LinearSVC\": {},\n",
        "}\n"
      ]
    },
    {
      "cell_type": "code",
      "execution_count": null,
      "metadata": {},
      "outputs": [
        {
          "name": "stdout",
          "output_type": "stream",
          "text": [
            "\n",
            "Running GridSearchCV for SGDClassifier \n",
            "\n",
            "Fitting 2 folds for each of 1 candidates, totalling 2 fits\n",
            "\n",
            "Running GridSearchCV for LinearSVC \n",
            "\n",
            "Fitting 2 folds for each of 1 candidates, totalling 2 fits\n"
          ]
        },
        {
          "name": "stderr",
          "output_type": "stream",
          "text": [
            "h:\\VScode\\CapStoneProject_2025-1\\.venv\\Lib\\site-packages\\sklearn\\svm\\_classes.py:32: FutureWarning: The default value of `dual` will change from `True` to `'auto'` in 1.5. Set the value of `dual` explicitly to suppress the warning.\n",
            "  warnings.warn(\n"
          ]
        }
      ],
      "source": [
        "search = HyperparameterOptimizationSearch(models=models_search, params=params_search)\n",
        "search.fit(X_train, y_train,\n",
        "           scoring='accuracy',\n",
        "           n_jobs=-2,\n",
        "           cv=2)\n",
        "\n",
        "grid_search_summary, grid_search_pipelines = search.score_summary(sort_by='mean_score')\n",
        "grid_search_summary"
      ]
    },
    {
      "cell_type": "code",
      "execution_count": 24,
      "metadata": {},
      "outputs": [
        {
          "name": "stdout",
          "output_type": "stream",
          "text": [
            "(35882,) (35882,) (8971,) (8971,)\n",
            "\n",
            "Running GridSearchCV for SGDClassifier \n",
            "\n",
            "Fitting 2 folds for each of 1 candidates, totalling 2 fits\n",
            "\n",
            "Running GridSearchCV for LinearSVC \n",
            "\n",
            "Fitting 2 folds for each of 1 candidates, totalling 2 fits\n"
          ]
        },
        {
          "name": "stderr",
          "output_type": "stream",
          "text": [
            "h:\\VScode\\CapStoneProject_2025-1\\.venv\\Lib\\site-packages\\sklearn\\svm\\_classes.py:32: FutureWarning: The default value of `dual` will change from `True` to `'auto'` in 1.5. Set the value of `dual` explicitly to suppress the warning.\n",
            "  warnings.warn(\n"
          ]
        },
        {
          "data": {
            "application/vnd.microsoft.datawrangler.viewer.v0+json": {
              "columns": [
                {
                  "name": "index",
                  "rawType": "int64",
                  "type": "integer"
                },
                {
                  "name": "estimator",
                  "rawType": "object",
                  "type": "string"
                },
                {
                  "name": "min_score",
                  "rawType": "object",
                  "type": "unknown"
                },
                {
                  "name": "mean_score",
                  "rawType": "object",
                  "type": "unknown"
                },
                {
                  "name": "max_score",
                  "rawType": "object",
                  "type": "unknown"
                },
                {
                  "name": "std_score",
                  "rawType": "object",
                  "type": "unknown"
                }
              ],
              "conversionMethod": "pd.DataFrame",
              "ref": "fc712be3-e5e9-4715-b395-8e5d7343db7e",
              "rows": [
                [
                  "1",
                  "LinearSVC",
                  "0.9398026865838025",
                  "0.9398862939635473",
                  "0.939969901343292",
                  "8.360737974472121e-05"
                ],
                [
                  "0",
                  "SGDClassifier",
                  "0.9371272504319714",
                  "0.9378239785965108",
                  "0.9385207067610501",
                  "0.0006967281645393619"
                ]
              ],
              "shape": {
                "columns": 5,
                "rows": 2
              }
            },
            "text/html": [
              "<div>\n",
              "<style scoped>\n",
              "    .dataframe tbody tr th:only-of-type {\n",
              "        vertical-align: middle;\n",
              "    }\n",
              "\n",
              "    .dataframe tbody tr th {\n",
              "        vertical-align: top;\n",
              "    }\n",
              "\n",
              "    .dataframe thead th {\n",
              "        text-align: right;\n",
              "    }\n",
              "</style>\n",
              "<table border=\"1\" class=\"dataframe\">\n",
              "  <thead>\n",
              "    <tr style=\"text-align: right;\">\n",
              "      <th></th>\n",
              "      <th>estimator</th>\n",
              "      <th>min_score</th>\n",
              "      <th>mean_score</th>\n",
              "      <th>max_score</th>\n",
              "      <th>std_score</th>\n",
              "    </tr>\n",
              "  </thead>\n",
              "  <tbody>\n",
              "    <tr>\n",
              "      <th>1</th>\n",
              "      <td>LinearSVC</td>\n",
              "      <td>0.939803</td>\n",
              "      <td>0.939886</td>\n",
              "      <td>0.93997</td>\n",
              "      <td>0.000084</td>\n",
              "    </tr>\n",
              "    <tr>\n",
              "      <th>0</th>\n",
              "      <td>SGDClassifier</td>\n",
              "      <td>0.937127</td>\n",
              "      <td>0.937824</td>\n",
              "      <td>0.938521</td>\n",
              "      <td>0.000697</td>\n",
              "    </tr>\n",
              "  </tbody>\n",
              "</table>\n",
              "</div>"
            ],
            "text/plain": [
              "       estimator min_score mean_score max_score std_score\n",
              "1      LinearSVC  0.939803   0.939886   0.93997  0.000084\n",
              "0  SGDClassifier  0.937127   0.937824  0.938521  0.000697"
            ]
          },
          "execution_count": 24,
          "metadata": {},
          "output_type": "execute_result"
        }
      ],
      "source": [
        "##now to run the same on the title\n",
        "X_train, X_test, y_train, y_test = train_test_split(source_df['title'], source_df['label'],\n",
        "                                                    test_size=0.2, random_state=101)\n",
        "\n",
        "print(X_train.shape, y_train.shape, X_test.shape, y_test.shape)\n",
        "\n",
        "search = HyperparameterOptimizationSearch(models=models_search, params=params_search)\n",
        "search.fit(X_train, y_train,\n",
        "           scoring='accuracy',\n",
        "           n_jobs=-2,\n",
        "           cv=2)\n",
        "\n",
        "grid_search_summary, grid_search_pipelines = search.score_summary(sort_by='mean_score')\n",
        "grid_search_summary\n"
      ]
    },
    {
      "cell_type": "markdown",
      "metadata": {
        "id": "ZY3l0-AxO93d"
      },
      "source": [
        "---"
      ]
    },
    {
      "cell_type": "code",
      "execution_count": 25,
      "metadata": {},
      "outputs": [
        {
          "name": "stdout",
          "output_type": "stream",
          "text": [
            "\n",
            "Running GridSearchCV for SGDClassifier \n",
            "\n",
            "Fitting 2 folds for each of 2 candidates, totalling 4 fits\n"
          ]
        },
        {
          "data": {
            "application/vnd.microsoft.datawrangler.viewer.v0+json": {
              "columns": [
                {
                  "name": "index",
                  "rawType": "int64",
                  "type": "integer"
                },
                {
                  "name": "estimator",
                  "rawType": "object",
                  "type": "string"
                },
                {
                  "name": "min_score",
                  "rawType": "object",
                  "type": "unknown"
                },
                {
                  "name": "mean_score",
                  "rawType": "object",
                  "type": "unknown"
                },
                {
                  "name": "max_score",
                  "rawType": "object",
                  "type": "unknown"
                },
                {
                  "name": "std_score",
                  "rawType": "object",
                  "type": "unknown"
                },
                {
                  "name": "model__tol",
                  "rawType": "object",
                  "type": "unknown"
                }
              ],
              "conversionMethod": "pd.DataFrame",
              "ref": "f59a9946-4e40-4c35-9d26-98add4e16ef2",
              "rows": [
                [
                  "0",
                  "SGDClassifier",
                  "0.9372387269382978",
                  "0.9380748007357449",
                  "0.9389108745331921",
                  "0.0008360737974471566",
                  "0.01"
                ],
                [
                  "1",
                  "SGDClassifier",
                  "0.9369042974193189",
                  "0.9377961094699292",
                  "0.9386879215205396",
                  "0.0008918120506103411",
                  "0.1"
                ]
              ],
              "shape": {
                "columns": 6,
                "rows": 2
              }
            },
            "text/html": [
              "<div>\n",
              "<style scoped>\n",
              "    .dataframe tbody tr th:only-of-type {\n",
              "        vertical-align: middle;\n",
              "    }\n",
              "\n",
              "    .dataframe tbody tr th {\n",
              "        vertical-align: top;\n",
              "    }\n",
              "\n",
              "    .dataframe thead th {\n",
              "        text-align: right;\n",
              "    }\n",
              "</style>\n",
              "<table border=\"1\" class=\"dataframe\">\n",
              "  <thead>\n",
              "    <tr style=\"text-align: right;\">\n",
              "      <th></th>\n",
              "      <th>estimator</th>\n",
              "      <th>min_score</th>\n",
              "      <th>mean_score</th>\n",
              "      <th>max_score</th>\n",
              "      <th>std_score</th>\n",
              "      <th>model__tol</th>\n",
              "    </tr>\n",
              "  </thead>\n",
              "  <tbody>\n",
              "    <tr>\n",
              "      <th>0</th>\n",
              "      <td>SGDClassifier</td>\n",
              "      <td>0.937239</td>\n",
              "      <td>0.938075</td>\n",
              "      <td>0.938911</td>\n",
              "      <td>0.000836</td>\n",
              "      <td>0.01</td>\n",
              "    </tr>\n",
              "    <tr>\n",
              "      <th>1</th>\n",
              "      <td>SGDClassifier</td>\n",
              "      <td>0.936904</td>\n",
              "      <td>0.937796</td>\n",
              "      <td>0.938688</td>\n",
              "      <td>0.000892</td>\n",
              "      <td>0.1</td>\n",
              "    </tr>\n",
              "  </tbody>\n",
              "</table>\n",
              "</div>"
            ],
            "text/plain": [
              "       estimator min_score mean_score max_score std_score model__tol\n",
              "0  SGDClassifier  0.937239   0.938075  0.938911  0.000836       0.01\n",
              "1  SGDClassifier  0.936904   0.937796  0.938688  0.000892        0.1"
            ]
          },
          "execution_count": 25,
          "metadata": {},
          "output_type": "execute_result"
        }
      ],
      "source": [
        "#SGDClassifier has the lowest std_score for both sets - and was within 0.002 of the highest mean_score for both sets\n",
        "#I will use this model for the final model\n",
        "\n",
        "models_search = {\n",
        "    #\"MultinomialNB\":MultinomialNB(),\n",
        "    \"SGDClassifier\":SGDClassifier(random_state=101),\n",
        "}\n",
        "\n",
        "params_search = {\n",
        "   # \"MultinomialNB\":{},\n",
        "    \"SGDClassifier\": {'model__tol':[1e-2, 1e-1],},\n",
        "}\n",
        "\n",
        "search = HyperparameterOptimizationSearch(models=models_search, params=params_search)\n",
        "search.fit(X_train, y_train,\n",
        "           scoring='accuracy',\n",
        "           n_jobs=-2,\n",
        "           cv=2)\n",
        "\n",
        "grid_search_summary, grid_search_pipelines = search.score_summary(sort_by='mean_score')\n",
        "grid_search_summary\n",
        "\n"
      ]
    },
    {
      "cell_type": "code",
      "execution_count": null,
      "metadata": {},
      "outputs": [],
      "source": [
        "best_model = grid_search_summary.iloc[0,0]\n",
        "best_model"
      ]
    },
    {
      "cell_type": "code",
      "execution_count": 39,
      "metadata": {},
      "outputs": [],
      "source": [
        "# Altered version to support using both fields as inputs for the model\n",
        "\n",
        "class TextPreprocessor(BaseEstimator, TransformerMixin):\n",
        "    def __init__(self, col1: str, col2: str):\n",
        "        self.col1 = col1  # First text column\n",
        "        self.col2 = col2  # Second text column\n",
        "\n",
        "    def fit(self, X, y=None):\n",
        "        return self  # No fitting necessary\n",
        "\n",
        "    def transform(self, X):\n",
        "        # Ensure input is a DataFrame\n",
        "        if not isinstance(X, pd.DataFrame):\n",
        "            raise ValueError(\"Input X must be a Pandas DataFrame\")\n",
        "\n",
        "        # Create a copy of the Dataframe to avoid SettingWithCopyWarning\n",
        "        X = X.copy()\n",
        "\n",
        "        # Convert both columns to string and handle NaN values\n",
        "        X[self.col1] = X[self.col1].astype(str).fillna('')\n",
        "        X[self.col2] = X[self.col2].astype(str).fillna('')\n",
        "\n",
        "        # Convert to lowercase and remove punctuation\n",
        "        X[self.col1] = X[self.col1].str.lower().str.replace(r\"[^\\w\\s]\", \"\", regex=True)\n",
        "        X[self.col2] = X[self.col2].str.lower().str.replace(r\"[^\\w\\s]\", \"\", regex=True)\n",
        "\n",
        "        # Concatenate both columns into a single text column\n",
        "        X_combined = X[self.col1] + \" \" + X[self.col2]\n",
        "\n",
        "        return X_combined  # Return single-column Pandas Series\n",
        "\n",
        "def PipelineOptimization(model, col1: str, col2: str, params=None):\n",
        "    pipeline = Pipeline([\n",
        "        ('text_preprocessor', TextPreprocessor(col1, col2)),  # Process two columns\n",
        "        ('vect', CountVectorizer(stop_words='english')),\n",
        "        ('tfidf', TfidfTransformer()),\n",
        "        ('model', model)\n",
        "    ])\n",
        "\n",
        "    if params and len(params) > 0:  # Ensure params are provided before using GridSearchCV\n",
        "        return GridSearchCV(pipeline, params, cv=2, n_jobs=-2, verbose=1, scoring='accuracy')\n",
        "\n",
        "    return pipeline  # Always return a pipeline, even if no params are given\n",
        "\n",
        "class HyperparameterOptimizationSearch:\n",
        "    def __init__(self, models, params, col1, col2):\n",
        "        self.models = models\n",
        "        self.params = params\n",
        "        self.keys = models.keys()\n",
        "        self.grid_searches = {}\n",
        "        self.col1 = col1\n",
        "        self.col2 = col2\n",
        "\n",
        "    def fit(self, X, y, cv=2, n_jobs=-2, verbose=1, scoring='accuracy', refit=True):\n",
        "        for key in self.keys:\n",
        "            print(f\"\\nRunning GridSearchCV for {key} \\n\")\n",
        "            model = PipelineOptimization(self.models[key], self.col1, self.col2, self.params[key])\n",
        "\n",
        "            if isinstance(model, GridSearchCV):  # If GridSearchCV is used\n",
        "                model.fit(X, y)\n",
        "                self.grid_searches[key] = model  # Store GridSearchCV object\n",
        "            else:  # If no parameter tuning, just fit normally\n",
        "                model.fit(X, y)\n",
        "                self.grid_searches[key] = model\n",
        "\n",
        "    def score_summary(self, sort_by='mean_test_score'):\n",
        "        rows = []\n",
        "        for k in self.grid_searches:\n",
        "            model = self.grid_searches[k]\n",
        "\n",
        "            if isinstance(model, GridSearchCV):  # Only GridSearchCV has cv_results_\n",
        "                df = pd.DataFrame(model.cv_results_)\n",
        "                df['estimator'] = k\n",
        "                rows.append(df)\n",
        "            else:\n",
        "                print(f\"Warning: {k} is a Pipeline, not GridSearchCV. Skipping summary.\")\n",
        "\n",
        "        if len(rows) == 0:\n",
        "            print(\"No GridSearchCV results found.\")\n",
        "            return None  # Return None if no summaries exist\n",
        "\n",
        "        summary_df = pd.concat(rows)\n",
        "        return summary_df.sort_values(by=sort_by, ascending=False)\n",
        "\n",
        "models_search = {\n",
        "    \"SGDClassifier\": SGDClassifier(random_state=101),\n",
        "    \"LinearSVC\": LinearSVC(random_state=101),\n",
        "}\n",
        "\n",
        "params_search = {\n",
        "    \"SGDClassifier\": {\n",
        "        'model__alpha': [0.0001, 0.001, 0.01],\n",
        "        'model__loss': ['hinge', 'log_loss'],\n",
        "    },\n",
        "    \"LinearSVC\": {\n",
        "        'model__C': [0.1, 1, 10],\n",
        "        'model__max_iter': [1000, 5000],\n",
        "    },\n",
        "}"
      ]
    },
    {
      "cell_type": "code",
      "execution_count": 40,
      "metadata": {},
      "outputs": [
        {
          "name": "stdout",
          "output_type": "stream",
          "text": [
            "\n",
            "Running GridSearchCV for SGDClassifier \n",
            "\n",
            "Fitting 2 folds for each of 6 candidates, totalling 12 fits\n",
            "\n",
            "Running GridSearchCV for LinearSVC \n",
            "\n",
            "Fitting 2 folds for each of 6 candidates, totalling 12 fits\n"
          ]
        },
        {
          "name": "stderr",
          "output_type": "stream",
          "text": [
            "h:\\VScode\\CapStoneProject_2025-1\\.venv\\Lib\\site-packages\\sklearn\\svm\\_classes.py:32: FutureWarning: The default value of `dual` will change from `True` to `'auto'` in 1.5. Set the value of `dual` explicitly to suppress the warning.\n",
            "  warnings.warn(\n"
          ]
        },
        {
          "name": "stdout",
          "output_type": "stream",
          "text": [
            "   mean_fit_time  std_fit_time  mean_score_time  std_score_time  \\\n",
            "4      12.344993      0.650197        10.761592        0.481054   \n",
            "5      12.259472      0.218652        10.756034        0.404619   \n",
            "2      13.764935      0.677232        12.796268        0.471375   \n",
            "3      12.982246      0.303214        11.936898        1.466922   \n",
            "0      13.633239      0.723497        13.187586        0.445748   \n",
            "0      13.481916      0.659361        12.624320        0.589492   \n",
            "1      13.655652      0.579924        12.832453        0.483824   \n",
            "1      13.658610      0.689896        13.241238        0.468974   \n",
            "2      13.547705      0.603155        13.478797        0.523583   \n",
            "3      12.903444      0.068234        12.282153        2.071466   \n",
            "5      11.855711      0.532718        10.414845        0.602537   \n",
            "4      11.888674      0.551777        10.718329        0.460577   \n",
            "\n",
            "  param_model__alpha param_model__loss  \\\n",
            "4                NaN               NaN   \n",
            "5                NaN               NaN   \n",
            "2                NaN               NaN   \n",
            "3                NaN               NaN   \n",
            "0             0.0001             hinge   \n",
            "0                NaN               NaN   \n",
            "1                NaN               NaN   \n",
            "1             0.0001          log_loss   \n",
            "2              0.001             hinge   \n",
            "3              0.001          log_loss   \n",
            "5               0.01          log_loss   \n",
            "4               0.01             hinge   \n",
            "\n",
            "                                              params  split0_test_score  \\\n",
            "4          {'model__C': 10, 'model__max_iter': 1000}           0.927766   \n",
            "5          {'model__C': 10, 'model__max_iter': 5000}           0.927766   \n",
            "2           {'model__C': 1, 'model__max_iter': 1000}           0.916886   \n",
            "3           {'model__C': 1, 'model__max_iter': 5000}           0.916886   \n",
            "0   {'model__alpha': 0.0001, 'model__loss': 'hinge'}           0.893164   \n",
            "0         {'model__C': 0.1, 'model__max_iter': 1000}           0.864003   \n",
            "1         {'model__C': 0.1, 'model__max_iter': 5000}           0.864003   \n",
            "1  {'model__alpha': 0.0001, 'model__loss': 'log_l...           0.823160   \n",
            "2    {'model__alpha': 0.001, 'model__loss': 'hinge'}           0.764882   \n",
            "3  {'model__alpha': 0.001, 'model__loss': 'log_lo...           0.718910   \n",
            "5  {'model__alpha': 0.01, 'model__loss': 'log_loss'}           0.627369   \n",
            "4     {'model__alpha': 0.01, 'model__loss': 'hinge'}           0.606546   \n",
            "\n",
            "   split1_test_score  mean_test_score  std_test_score  rank_test_score  \\\n",
            "4           0.954160         0.940963        0.013197                1   \n",
            "5           0.954160         0.940963        0.013197                1   \n",
            "2           0.957326         0.937106        0.020220                3   \n",
            "3           0.957326         0.937106        0.020220                3   \n",
            "0           0.954829         0.923997        0.030832                1   \n",
            "0           0.947873         0.905938        0.041935                5   \n",
            "1           0.947873         0.905938        0.041935                5   \n",
            "1           0.931865         0.877512        0.054353                2   \n",
            "2           0.924195         0.844538        0.079657                3   \n",
            "3           0.883974         0.801442        0.082532                4   \n",
            "5           0.758004         0.692686        0.065318                5   \n",
            "4           0.654330         0.630438        0.023892                6   \n",
            "\n",
            "       estimator param_model__C param_model__max_iter  \n",
            "4      LinearSVC             10                  1000  \n",
            "5      LinearSVC             10                  5000  \n",
            "2      LinearSVC              1                  1000  \n",
            "3      LinearSVC              1                  5000  \n",
            "0  SGDClassifier            NaN                   NaN  \n",
            "0      LinearSVC            0.1                  1000  \n",
            "1      LinearSVC            0.1                  5000  \n",
            "1  SGDClassifier            NaN                   NaN  \n",
            "2  SGDClassifier            NaN                   NaN  \n",
            "3  SGDClassifier            NaN                   NaN  \n",
            "5  SGDClassifier            NaN                   NaN  \n",
            "4  SGDClassifier            NaN                   NaN  \n"
          ]
        }
      ],
      "source": [
        "## try to run using both fields\n",
        "# X_train, X_test, y_train, y_test = train_test_split(source_df[['title', 'cleaned_text']], source_df['label'],\n",
        "#                                                     test_size=0.2, random_state=101)\n",
        "\n",
        "# print(X_train.shape, y_train.shape, X_test.shape, y_test.shape)\n",
        "\n",
        "text_column_1 = 'title'\n",
        "text_column_2 = 'cleaned_text'\n",
        "\n",
        "search = HyperparameterOptimizationSearch(models=models_search, \n",
        "                                          params=params_search, \n",
        "                                          col1=text_column_1, \n",
        "                                          col2=text_column_2)\n",
        "\n",
        "search.fit(source_df[[text_column_1, text_column_2]],  # Pass DataFrame with two columns\n",
        "           source_df['label'],  \n",
        "           scoring='accuracy', \n",
        "           n_jobs=-2, \n",
        "           cv=2)\n",
        "\n",
        "grid_search_summary = search.score_summary()\n",
        "if grid_search_summary is not None:\n",
        "    print(grid_search_summary)"
      ]
    },
    {
      "cell_type": "code",
      "execution_count": 41,
      "metadata": {},
      "outputs": [
        {
          "data": {
            "image/png": "[encoded data removed]",
            "text/plain": [
              "<Figure size 1000x600 with 1 Axes>"
            ]
          },
          "metadata": {},
          "output_type": "display_data"
        }
      ],
      "source": [
        "import matplotlib.pyplot as plt\n",
        "import pandas as pd\n",
        "\n",
        "# Manually creating the DataFrame based on the user's provided output\n",
        "data = {\n",
        "    \"Model\": [\n",
        "        \"LinearSVC (C=10, iter=1000)\", \"LinearSVC (C=10, iter=5000)\",\n",
        "        \"LinearSVC (C=1, iter=1000)\", \"LinearSVC (C=1, iter=5000)\",\n",
        "        \"SGD (alpha=0.0001, hinge)\", \"LinearSVC (C=0.1, iter=1000)\",\n",
        "        \"LinearSVC (C=0.1, iter=5000)\", \"SGD (alpha=0.0001, log_loss)\",\n",
        "        \"SGD (alpha=0.001, hinge)\", \"SGD (alpha=0.001, log_loss)\",\n",
        "        \"SGD (alpha=0.01, log_loss)\", \"SGD (alpha=0.01, hinge)\"\n",
        "    ],\n",
        "    \"Mean Test Score\": [0.940963, 0.940963, 0.937106, 0.937106, 0.923997,\n",
        "                        0.905938, 0.905938, 0.877512, 0.844538, 0.801442,\n",
        "                        0.692686, 0.630438]\n",
        "}\n",
        "\n",
        "df = pd.DataFrame(data)\n",
        "\n",
        "# Sorting by performance\n",
        "df = df.sort_values(by=\"Mean Test Score\", ascending=True)\n",
        "\n",
        "# Plotting\n",
        "plt.figure(figsize=(10, 6))\n",
        "plt.barh(df[\"Model\"], df[\"Mean Test Score\"], color=\"royalblue\")\n",
        "plt.xlabel(\"Mean Test Score (Accuracy)\")\n",
        "plt.ylabel(\"Model Configuration\")\n",
        "plt.title(\"Hyperparameter Optimization Results\")\n",
        "plt.grid(axis=\"x\", linestyle=\"--\", alpha=0.7)\n",
        "plt.show()\n"
      ]
    },
    {
      "cell_type": "markdown",
      "metadata": {},
      "source": [
        "\n",
        "| Column                | Meaning                                                                 |\n",
        "|-----------------------|-------------------------------------------------------------------------|\n",
        "| mean_fit_time         | Average time taken to train the model per fold                          |\n",
        "| std_fit_time          | Standard deviation of the training time (variation)                     |\n",
        "| mean_score_time       | Average time taken to evaluate the model on validation data             |\n",
        "| std_score_time        | Variation in score calculation time                                     |\n",
        "| param_model__alpha    | Alpha (regularization) hyperparameter for SGDClassifier                 |\n",
        "| param_model__loss     | Loss function (hinge or log_loss) for SGDClassifier                     |\n",
        "| param_model__C        | Regularization strength for LinearSVC                                   |\n",
        "| param_model__max_iter | Number of iterations for LinearSVC                                      |\n",
        "| params                | Dictionary of all hyperparameters tested for a given model              |\n",
        "| split0_test_score     | Accuracy score on first cross-validation split                          |\n",
        "| split1_test_score     | Accuracy score on second cross-validation split                         |\n",
        "| mean_test_score       | Average accuracy across all CV splits (this is what we use for model selection) |\n",
        "| std_test_score        | Variation in accuracy scores (lower = more consistent performance)      |\n",
        "| rank_test_score       | Rank of the model (1 = best performing)                                 |\n",
        "| estimator             | The model used (SGDClassifier or LinearSVC)                             |\n",
        "\n",
        "### Takeaways from the analysis\n",
        "\n",
        "The best model was:\n",
        "* LinearSVC with C=10, max_iter=1000\n",
        "* SGDClassifier with alpha=0.0001, hinge was also a strong model\n",
        "\n",
        "Avoid over-regularization:\n",
        "* High alpha (SGDClassifier) or low C (LinearSVC) were the worst performing models\n",
        "* Alpha = 0.01 and C=0.1 performed significantly worse\n",
        "\n",
        "Opportunities for Fine Tuning:\n",
        "* It may be worth running a test with C values of 50 or 100\n",
        "* Add more cross-validation folds to ensure stability"
      ]
    },
    {
      "cell_type": "markdown",
      "metadata": {},
      "source": [
        "## Using NLP to search title and cleaned_text to extract a location"
      ]
    },
    {
      "cell_type": "code",
      "execution_count": 42,
      "metadata": {},
      "outputs": [
        {
          "ename": "KeyboardInterrupt",
          "evalue": "",
          "output_type": "error",
          "traceback": [
            "\u001b[31m---------------------------------------------------------------------------\u001b[39m",
            "\u001b[31mKeyboardInterrupt\u001b[39m                         Traceback (most recent call last)",
            "\u001b[36mCell\u001b[39m\u001b[36m \u001b[39m\u001b[32mIn[42]\u001b[39m\u001b[32m, line 10\u001b[39m\n\u001b[32m      7\u001b[39m     \u001b[38;5;28;01mreturn\u001b[39;00m locations\n\u001b[32m      9\u001b[39m \u001b[38;5;66;03m# create column with locations\u001b[39;00m\n\u001b[32m---> \u001b[39m\u001b[32m10\u001b[39m source_df[\u001b[33m'\u001b[39m\u001b[33mlocations\u001b[39m\u001b[33m'\u001b[39m] = \u001b[43msource_df\u001b[49m\u001b[43m[\u001b[49m\u001b[33;43m'\u001b[39;49m\u001b[33;43mcleaned_text\u001b[39;49m\u001b[33;43m'\u001b[39;49m\u001b[43m]\u001b[49m\u001b[43m.\u001b[49m\u001b[43mapply\u001b[49m\u001b[43m(\u001b[49m\u001b[43mextract_locations\u001b[49m\u001b[43m)\u001b[49m\n\u001b[32m     12\u001b[39m \u001b[38;5;66;03m# produce a visualisation of the most common locations\u001b[39;00m\n\u001b[32m     13\u001b[39m \u001b[38;5;28;01mfrom\u001b[39;00m\u001b[38;5;250m \u001b[39m\u001b[34;01mcollections\u001b[39;00m\u001b[38;5;250m \u001b[39m\u001b[38;5;28;01mimport\u001b[39;00m Counter\n",
            "\u001b[36mFile \u001b[39m\u001b[32mh:\\VScode\\CapStoneProject_2025-1\\.venv\\Lib\\site-packages\\pandas\\core\\series.py:4760\u001b[39m, in \u001b[36mSeries.apply\u001b[39m\u001b[34m(self, func, convert_dtype, args, by_row, **kwargs)\u001b[39m\n\u001b[32m   4625\u001b[39m \u001b[38;5;28;01mdef\u001b[39;00m\u001b[38;5;250m \u001b[39m\u001b[34mapply\u001b[39m(\n\u001b[32m   4626\u001b[39m     \u001b[38;5;28mself\u001b[39m,\n\u001b[32m   4627\u001b[39m     func: AggFuncType,\n\u001b[32m   (...)\u001b[39m\u001b[32m   4632\u001b[39m     **kwargs,\n\u001b[32m   4633\u001b[39m ) -> DataFrame | Series:\n\u001b[32m   4634\u001b[39m \u001b[38;5;250m    \u001b[39m\u001b[33;03m\"\"\"\u001b[39;00m\n\u001b[32m   4635\u001b[39m \u001b[33;03m    Invoke function on values of Series.\u001b[39;00m\n\u001b[32m   4636\u001b[39m \n\u001b[32m   (...)\u001b[39m\u001b[32m   4751\u001b[39m \u001b[33;03m    dtype: float64\u001b[39;00m\n\u001b[32m   4752\u001b[39m \u001b[33;03m    \"\"\"\u001b[39;00m\n\u001b[32m   4753\u001b[39m     \u001b[38;5;28;01mreturn\u001b[39;00m \u001b[43mSeriesApply\u001b[49m\u001b[43m(\u001b[49m\n\u001b[32m   4754\u001b[39m \u001b[43m        \u001b[49m\u001b[38;5;28;43mself\u001b[39;49m\u001b[43m,\u001b[49m\n\u001b[32m   4755\u001b[39m \u001b[43m        \u001b[49m\u001b[43mfunc\u001b[49m\u001b[43m,\u001b[49m\n\u001b[32m   4756\u001b[39m \u001b[43m        \u001b[49m\u001b[43mconvert_dtype\u001b[49m\u001b[43m=\u001b[49m\u001b[43mconvert_dtype\u001b[49m\u001b[43m,\u001b[49m\n\u001b[32m   4757\u001b[39m \u001b[43m        \u001b[49m\u001b[43mby_row\u001b[49m\u001b[43m=\u001b[49m\u001b[43mby_row\u001b[49m\u001b[43m,\u001b[49m\n\u001b[32m   4758\u001b[39m \u001b[43m        \u001b[49m\u001b[43margs\u001b[49m\u001b[43m=\u001b[49m\u001b[43margs\u001b[49m\u001b[43m,\u001b[49m\n\u001b[32m   4759\u001b[39m \u001b[43m        \u001b[49m\u001b[43mkwargs\u001b[49m\u001b[43m=\u001b[49m\u001b[43mkwargs\u001b[49m\u001b[43m,\u001b[49m\n\u001b[32m-> \u001b[39m\u001b[32m4760\u001b[39m \u001b[43m    \u001b[49m\u001b[43m)\u001b[49m\u001b[43m.\u001b[49m\u001b[43mapply\u001b[49m\u001b[43m(\u001b[49m\u001b[43m)\u001b[49m\n",
            "\u001b[36mFile \u001b[39m\u001b[32mh:\\VScode\\CapStoneProject_2025-1\\.venv\\Lib\\site-packages\\pandas\\core\\apply.py:1207\u001b[39m, in \u001b[36mSeriesApply.apply\u001b[39m\u001b[34m(self)\u001b[39m\n\u001b[32m   1204\u001b[39m     \u001b[38;5;28;01mreturn\u001b[39;00m \u001b[38;5;28mself\u001b[39m.apply_compat()\n\u001b[32m   1206\u001b[39m \u001b[38;5;66;03m# self.func is Callable\u001b[39;00m\n\u001b[32m-> \u001b[39m\u001b[32m1207\u001b[39m \u001b[38;5;28;01mreturn\u001b[39;00m \u001b[38;5;28;43mself\u001b[39;49m\u001b[43m.\u001b[49m\u001b[43mapply_standard\u001b[49m\u001b[43m(\u001b[49m\u001b[43m)\u001b[49m\n",
            "\u001b[36mFile \u001b[39m\u001b[32mh:\\VScode\\CapStoneProject_2025-1\\.venv\\Lib\\site-packages\\pandas\\core\\apply.py:1287\u001b[39m, in \u001b[36mSeriesApply.apply_standard\u001b[39m\u001b[34m(self)\u001b[39m\n\u001b[32m   1281\u001b[39m \u001b[38;5;66;03m# row-wise access\u001b[39;00m\n\u001b[32m   1282\u001b[39m \u001b[38;5;66;03m# apply doesn't have a `na_action` keyword and for backward compat reasons\u001b[39;00m\n\u001b[32m   1283\u001b[39m \u001b[38;5;66;03m# we need to give `na_action=\"ignore\"` for categorical data.\u001b[39;00m\n\u001b[32m   1284\u001b[39m \u001b[38;5;66;03m# TODO: remove the `na_action=\"ignore\"` when that default has been changed in\u001b[39;00m\n\u001b[32m   1285\u001b[39m \u001b[38;5;66;03m#  Categorical (GH51645).\u001b[39;00m\n\u001b[32m   1286\u001b[39m action = \u001b[33m\"\u001b[39m\u001b[33mignore\u001b[39m\u001b[33m\"\u001b[39m \u001b[38;5;28;01mif\u001b[39;00m \u001b[38;5;28misinstance\u001b[39m(obj.dtype, CategoricalDtype) \u001b[38;5;28;01melse\u001b[39;00m \u001b[38;5;28;01mNone\u001b[39;00m\n\u001b[32m-> \u001b[39m\u001b[32m1287\u001b[39m mapped = \u001b[43mobj\u001b[49m\u001b[43m.\u001b[49m\u001b[43m_map_values\u001b[49m\u001b[43m(\u001b[49m\n\u001b[32m   1288\u001b[39m \u001b[43m    \u001b[49m\u001b[43mmapper\u001b[49m\u001b[43m=\u001b[49m\u001b[43mcurried\u001b[49m\u001b[43m,\u001b[49m\u001b[43m \u001b[49m\u001b[43mna_action\u001b[49m\u001b[43m=\u001b[49m\u001b[43maction\u001b[49m\u001b[43m,\u001b[49m\u001b[43m \u001b[49m\u001b[43mconvert\u001b[49m\u001b[43m=\u001b[49m\u001b[38;5;28;43mself\u001b[39;49m\u001b[43m.\u001b[49m\u001b[43mconvert_dtype\u001b[49m\n\u001b[32m   1289\u001b[39m \u001b[43m\u001b[49m\u001b[43m)\u001b[49m\n\u001b[32m   1291\u001b[39m \u001b[38;5;28;01mif\u001b[39;00m \u001b[38;5;28mlen\u001b[39m(mapped) \u001b[38;5;129;01mand\u001b[39;00m \u001b[38;5;28misinstance\u001b[39m(mapped[\u001b[32m0\u001b[39m], ABCSeries):\n\u001b[32m   1292\u001b[39m     \u001b[38;5;66;03m# GH#43986 Need to do list(mapped) in order to get treated as nested\u001b[39;00m\n\u001b[32m   1293\u001b[39m     \u001b[38;5;66;03m#  See also GH#25959 regarding EA support\u001b[39;00m\n\u001b[32m   1294\u001b[39m     \u001b[38;5;28;01mreturn\u001b[39;00m obj._constructor_expanddim(\u001b[38;5;28mlist\u001b[39m(mapped), index=obj.index)\n",
            "\u001b[36mFile \u001b[39m\u001b[32mh:\\VScode\\CapStoneProject_2025-1\\.venv\\Lib\\site-packages\\pandas\\core\\base.py:921\u001b[39m, in \u001b[36mIndexOpsMixin._map_values\u001b[39m\u001b[34m(self, mapper, na_action, convert)\u001b[39m\n\u001b[32m    918\u001b[39m \u001b[38;5;28;01mif\u001b[39;00m \u001b[38;5;28misinstance\u001b[39m(arr, ExtensionArray):\n\u001b[32m    919\u001b[39m     \u001b[38;5;28;01mreturn\u001b[39;00m arr.map(mapper, na_action=na_action)\n\u001b[32m--> \u001b[39m\u001b[32m921\u001b[39m \u001b[38;5;28;01mreturn\u001b[39;00m \u001b[43malgorithms\u001b[49m\u001b[43m.\u001b[49m\u001b[43mmap_array\u001b[49m\u001b[43m(\u001b[49m\u001b[43marr\u001b[49m\u001b[43m,\u001b[49m\u001b[43m \u001b[49m\u001b[43mmapper\u001b[49m\u001b[43m,\u001b[49m\u001b[43m \u001b[49m\u001b[43mna_action\u001b[49m\u001b[43m=\u001b[49m\u001b[43mna_action\u001b[49m\u001b[43m,\u001b[49m\u001b[43m \u001b[49m\u001b[43mconvert\u001b[49m\u001b[43m=\u001b[49m\u001b[43mconvert\u001b[49m\u001b[43m)\u001b[49m\n",
            "\u001b[36mFile \u001b[39m\u001b[32mh:\\VScode\\CapStoneProject_2025-1\\.venv\\Lib\\site-packages\\pandas\\core\\algorithms.py:1814\u001b[39m, in \u001b[36mmap_array\u001b[39m\u001b[34m(arr, mapper, na_action, convert)\u001b[39m\n\u001b[32m   1812\u001b[39m values = arr.astype(\u001b[38;5;28mobject\u001b[39m, copy=\u001b[38;5;28;01mFalse\u001b[39;00m)\n\u001b[32m   1813\u001b[39m \u001b[38;5;28;01mif\u001b[39;00m na_action \u001b[38;5;129;01mis\u001b[39;00m \u001b[38;5;28;01mNone\u001b[39;00m:\n\u001b[32m-> \u001b[39m\u001b[32m1814\u001b[39m     \u001b[38;5;28;01mreturn\u001b[39;00m \u001b[43mlib\u001b[49m\u001b[43m.\u001b[49m\u001b[43mmap_infer\u001b[49m\u001b[43m(\u001b[49m\u001b[43mvalues\u001b[49m\u001b[43m,\u001b[49m\u001b[43m \u001b[49m\u001b[43mmapper\u001b[49m\u001b[43m,\u001b[49m\u001b[43m \u001b[49m\u001b[43mconvert\u001b[49m\u001b[43m=\u001b[49m\u001b[43mconvert\u001b[49m\u001b[43m)\u001b[49m\n\u001b[32m   1815\u001b[39m \u001b[38;5;28;01melse\u001b[39;00m:\n\u001b[32m   1816\u001b[39m     \u001b[38;5;28;01mreturn\u001b[39;00m lib.map_infer_mask(\n\u001b[32m   1817\u001b[39m         values, mapper, mask=isna(values).view(np.uint8), convert=convert\n\u001b[32m   1818\u001b[39m     )\n",
            "\u001b[36mFile \u001b[39m\u001b[32mlib.pyx:2917\u001b[39m, in \u001b[36mpandas._libs.lib.map_infer\u001b[39m\u001b[34m()\u001b[39m\n",
            "\u001b[36mCell\u001b[39m\u001b[36m \u001b[39m\u001b[32mIn[42]\u001b[39m\u001b[32m, line 4\u001b[39m, in \u001b[36mextract_locations\u001b[39m\u001b[34m(text)\u001b[39m\n\u001b[32m      3\u001b[39m \u001b[38;5;28;01mdef\u001b[39;00m\u001b[38;5;250m \u001b[39m\u001b[34mextract_locations\u001b[39m(text):\n\u001b[32m----> \u001b[39m\u001b[32m4\u001b[39m     nlp = \u001b[43mspacy\u001b[49m\u001b[43m.\u001b[49m\u001b[43mload\u001b[49m\u001b[43m(\u001b[49m\u001b[33;43m\"\u001b[39;49m\u001b[33;43men_core_web_sm\u001b[39;49m\u001b[33;43m\"\u001b[39;49m\u001b[43m)\u001b[49m\n\u001b[32m      5\u001b[39m     doc = nlp(text)\n\u001b[32m      6\u001b[39m     locations = [ent.text \u001b[38;5;28;01mfor\u001b[39;00m ent \u001b[38;5;129;01min\u001b[39;00m doc.ents \u001b[38;5;28;01mif\u001b[39;00m ent.label_ == \u001b[33m\"\u001b[39m\u001b[33mGPE\u001b[39m\u001b[33m\"\u001b[39m]\n",
            "\u001b[36mFile \u001b[39m\u001b[32mh:\\VScode\\CapStoneProject_2025-1\\.venv\\Lib\\site-packages\\spacy\\__init__.py:51\u001b[39m, in \u001b[36mload\u001b[39m\u001b[34m(name, vocab, disable, enable, exclude, config)\u001b[39m\n\u001b[32m     27\u001b[39m \u001b[38;5;28;01mdef\u001b[39;00m\u001b[38;5;250m \u001b[39m\u001b[34mload\u001b[39m(\n\u001b[32m     28\u001b[39m     name: Union[\u001b[38;5;28mstr\u001b[39m, Path],\n\u001b[32m     29\u001b[39m     *,\n\u001b[32m   (...)\u001b[39m\u001b[32m     34\u001b[39m     config: Union[Dict[\u001b[38;5;28mstr\u001b[39m, Any], Config] = util.SimpleFrozenDict(),\n\u001b[32m     35\u001b[39m ) -> Language:\n\u001b[32m     36\u001b[39m \u001b[38;5;250m    \u001b[39m\u001b[33;03m\"\"\"Load a spaCy model from an installed package or a local path.\u001b[39;00m\n\u001b[32m     37\u001b[39m \n\u001b[32m     38\u001b[39m \u001b[33;03m    name (str): Package name or model path.\u001b[39;00m\n\u001b[32m   (...)\u001b[39m\u001b[32m     49\u001b[39m \u001b[33;03m    RETURNS (Language): The loaded nlp object.\u001b[39;00m\n\u001b[32m     50\u001b[39m \u001b[33;03m    \"\"\"\u001b[39;00m\n\u001b[32m---> \u001b[39m\u001b[32m51\u001b[39m     \u001b[38;5;28;01mreturn\u001b[39;00m \u001b[43mutil\u001b[49m\u001b[43m.\u001b[49m\u001b[43mload_model\u001b[49m\u001b[43m(\u001b[49m\n\u001b[32m     52\u001b[39m \u001b[43m        \u001b[49m\u001b[43mname\u001b[49m\u001b[43m,\u001b[49m\n\u001b[32m     53\u001b[39m \u001b[43m        \u001b[49m\u001b[43mvocab\u001b[49m\u001b[43m=\u001b[49m\u001b[43mvocab\u001b[49m\u001b[43m,\u001b[49m\n\u001b[32m     54\u001b[39m \u001b[43m        \u001b[49m\u001b[43mdisable\u001b[49m\u001b[43m=\u001b[49m\u001b[43mdisable\u001b[49m\u001b[43m,\u001b[49m\n\u001b[32m     55\u001b[39m \u001b[43m        \u001b[49m\u001b[43menable\u001b[49m\u001b[43m=\u001b[49m\u001b[43menable\u001b[49m\u001b[43m,\u001b[49m\n\u001b[32m     56\u001b[39m \u001b[43m        \u001b[49m\u001b[43mexclude\u001b[49m\u001b[43m=\u001b[49m\u001b[43mexclude\u001b[49m\u001b[43m,\u001b[49m\n\u001b[32m     57\u001b[39m \u001b[43m        \u001b[49m\u001b[43mconfig\u001b[49m\u001b[43m=\u001b[49m\u001b[43mconfig\u001b[49m\u001b[43m,\u001b[49m\n\u001b[32m     58\u001b[39m \u001b[43m    \u001b[49m\u001b[43m)\u001b[49m\n",
            "\u001b[36mFile \u001b[39m\u001b[32mh:\\VScode\\CapStoneProject_2025-1\\.venv\\Lib\\site-packages\\spacy\\util.py:465\u001b[39m, in \u001b[36mload_model\u001b[39m\u001b[34m(name, vocab, disable, enable, exclude, config)\u001b[39m\n\u001b[32m    463\u001b[39m     \u001b[38;5;28;01mreturn\u001b[39;00m get_lang_class(name.replace(\u001b[33m\"\u001b[39m\u001b[33mblank:\u001b[39m\u001b[33m\"\u001b[39m, \u001b[33m\"\u001b[39m\u001b[33m\"\u001b[39m))()\n\u001b[32m    464\u001b[39m \u001b[38;5;28;01mif\u001b[39;00m is_package(name):  \u001b[38;5;66;03m# installed as package\u001b[39;00m\n\u001b[32m--> \u001b[39m\u001b[32m465\u001b[39m     \u001b[38;5;28;01mreturn\u001b[39;00m \u001b[43mload_model_from_package\u001b[49m\u001b[43m(\u001b[49m\u001b[43mname\u001b[49m\u001b[43m,\u001b[49m\u001b[43m \u001b[49m\u001b[43m*\u001b[49m\u001b[43m*\u001b[49m\u001b[43mkwargs\u001b[49m\u001b[43m)\u001b[49m  \u001b[38;5;66;03m# type: ignore[arg-type]\u001b[39;00m\n\u001b[32m    466\u001b[39m \u001b[38;5;28;01mif\u001b[39;00m Path(name).exists():  \u001b[38;5;66;03m# path to model data directory\u001b[39;00m\n\u001b[32m    467\u001b[39m     \u001b[38;5;28;01mreturn\u001b[39;00m load_model_from_path(Path(name), **kwargs)  \u001b[38;5;66;03m# type: ignore[arg-type]\u001b[39;00m\n",
            "\u001b[36mFile \u001b[39m\u001b[32mh:\\VScode\\CapStoneProject_2025-1\\.venv\\Lib\\site-packages\\spacy\\util.py:501\u001b[39m, in \u001b[36mload_model_from_package\u001b[39m\u001b[34m(name, vocab, disable, enable, exclude, config)\u001b[39m\n\u001b[32m    484\u001b[39m \u001b[38;5;250m\u001b[39m\u001b[33;03m\"\"\"Load a model from an installed package.\u001b[39;00m\n\u001b[32m    485\u001b[39m \n\u001b[32m    486\u001b[39m \u001b[33;03mname (str): The package name.\u001b[39;00m\n\u001b[32m   (...)\u001b[39m\u001b[32m    498\u001b[39m \u001b[33;03mRETURNS (Language): The loaded nlp object.\u001b[39;00m\n\u001b[32m    499\u001b[39m \u001b[33;03m\"\"\"\u001b[39;00m\n\u001b[32m    500\u001b[39m \u001b[38;5;28mcls\u001b[39m = importlib.import_module(name)\n\u001b[32m--> \u001b[39m\u001b[32m501\u001b[39m \u001b[38;5;28;01mreturn\u001b[39;00m \u001b[38;5;28;43mcls\u001b[39;49m\u001b[43m.\u001b[49m\u001b[43mload\u001b[49m\u001b[43m(\u001b[49m\u001b[43mvocab\u001b[49m\u001b[43m=\u001b[49m\u001b[43mvocab\u001b[49m\u001b[43m,\u001b[49m\u001b[43m \u001b[49m\u001b[43mdisable\u001b[49m\u001b[43m=\u001b[49m\u001b[43mdisable\u001b[49m\u001b[43m,\u001b[49m\u001b[43m \u001b[49m\u001b[43menable\u001b[49m\u001b[43m=\u001b[49m\u001b[43menable\u001b[49m\u001b[43m,\u001b[49m\u001b[43m \u001b[49m\u001b[43mexclude\u001b[49m\u001b[43m=\u001b[49m\u001b[43mexclude\u001b[49m\u001b[43m,\u001b[49m\u001b[43m \u001b[49m\u001b[43mconfig\u001b[49m\u001b[43m=\u001b[49m\u001b[43mconfig\u001b[49m\u001b[43m)\u001b[49m\n",
            "\u001b[36mFile \u001b[39m\u001b[32mh:\\VScode\\CapStoneProject_2025-1\\.venv\\Lib\\site-packages\\en_core_web_sm\\__init__.py:10\u001b[39m, in \u001b[36mload\u001b[39m\u001b[34m(**overrides)\u001b[39m\n\u001b[32m      9\u001b[39m \u001b[38;5;28;01mdef\u001b[39;00m\u001b[38;5;250m \u001b[39m\u001b[34mload\u001b[39m(**overrides):\n\u001b[32m---> \u001b[39m\u001b[32m10\u001b[39m     \u001b[38;5;28;01mreturn\u001b[39;00m \u001b[43mload_model_from_init_py\u001b[49m\u001b[43m(\u001b[49m\u001b[34;43m__file__\u001b[39;49m\u001b[43m,\u001b[49m\u001b[43m \u001b[49m\u001b[43m*\u001b[49m\u001b[43m*\u001b[49m\u001b[43moverrides\u001b[49m\u001b[43m)\u001b[49m\n",
            "\u001b[36mFile \u001b[39m\u001b[32mh:\\VScode\\CapStoneProject_2025-1\\.venv\\Lib\\site-packages\\spacy\\util.py:682\u001b[39m, in \u001b[36mload_model_from_init_py\u001b[39m\u001b[34m(init_file, vocab, disable, enable, exclude, config)\u001b[39m\n\u001b[32m    680\u001b[39m \u001b[38;5;28;01mif\u001b[39;00m \u001b[38;5;129;01mnot\u001b[39;00m model_path.exists():\n\u001b[32m    681\u001b[39m     \u001b[38;5;28;01mraise\u001b[39;00m \u001b[38;5;167;01mIOError\u001b[39;00m(Errors.E052.format(path=data_path))\n\u001b[32m--> \u001b[39m\u001b[32m682\u001b[39m \u001b[38;5;28;01mreturn\u001b[39;00m \u001b[43mload_model_from_path\u001b[49m\u001b[43m(\u001b[49m\n\u001b[32m    683\u001b[39m \u001b[43m    \u001b[49m\u001b[43mdata_path\u001b[49m\u001b[43m,\u001b[49m\n\u001b[32m    684\u001b[39m \u001b[43m    \u001b[49m\u001b[43mvocab\u001b[49m\u001b[43m=\u001b[49m\u001b[43mvocab\u001b[49m\u001b[43m,\u001b[49m\n\u001b[32m    685\u001b[39m \u001b[43m    \u001b[49m\u001b[43mmeta\u001b[49m\u001b[43m=\u001b[49m\u001b[43mmeta\u001b[49m\u001b[43m,\u001b[49m\n\u001b[32m    686\u001b[39m \u001b[43m    \u001b[49m\u001b[43mdisable\u001b[49m\u001b[43m=\u001b[49m\u001b[43mdisable\u001b[49m\u001b[43m,\u001b[49m\n\u001b[32m    687\u001b[39m \u001b[43m    \u001b[49m\u001b[43menable\u001b[49m\u001b[43m=\u001b[49m\u001b[43menable\u001b[49m\u001b[43m,\u001b[49m\n\u001b[32m    688\u001b[39m \u001b[43m    \u001b[49m\u001b[43mexclude\u001b[49m\u001b[43m=\u001b[49m\u001b[43mexclude\u001b[49m\u001b[43m,\u001b[49m\n\u001b[32m    689\u001b[39m \u001b[43m    \u001b[49m\u001b[43mconfig\u001b[49m\u001b[43m=\u001b[49m\u001b[43mconfig\u001b[49m\u001b[43m,\u001b[49m\n\u001b[32m    690\u001b[39m \u001b[43m\u001b[49m\u001b[43m)\u001b[49m\n",
            "\u001b[36mFile \u001b[39m\u001b[32mh:\\VScode\\CapStoneProject_2025-1\\.venv\\Lib\\site-packages\\spacy\\util.py:547\u001b[39m, in \u001b[36mload_model_from_path\u001b[39m\u001b[34m(model_path, meta, vocab, disable, enable, exclude, config)\u001b[39m\n\u001b[32m    538\u001b[39m config = load_config(config_path, overrides=overrides)\n\u001b[32m    539\u001b[39m nlp = load_model_from_config(\n\u001b[32m    540\u001b[39m     config,\n\u001b[32m    541\u001b[39m     vocab=vocab,\n\u001b[32m   (...)\u001b[39m\u001b[32m    545\u001b[39m     meta=meta,\n\u001b[32m    546\u001b[39m )\n\u001b[32m--> \u001b[39m\u001b[32m547\u001b[39m \u001b[38;5;28;01mreturn\u001b[39;00m \u001b[43mnlp\u001b[49m\u001b[43m.\u001b[49m\u001b[43mfrom_disk\u001b[49m\u001b[43m(\u001b[49m\u001b[43mmodel_path\u001b[49m\u001b[43m,\u001b[49m\u001b[43m \u001b[49m\u001b[43mexclude\u001b[49m\u001b[43m=\u001b[49m\u001b[43mexclude\u001b[49m\u001b[43m,\u001b[49m\u001b[43m \u001b[49m\u001b[43moverrides\u001b[49m\u001b[43m=\u001b[49m\u001b[43moverrides\u001b[49m\u001b[43m)\u001b[49m\n",
            "\u001b[36mFile \u001b[39m\u001b[32mh:\\VScode\\CapStoneProject_2025-1\\.venv\\Lib\\site-packages\\spacy\\language.py:2246\u001b[39m, in \u001b[36mLanguage.from_disk\u001b[39m\u001b[34m(self, path, exclude, overrides)\u001b[39m\n\u001b[32m   2243\u001b[39m \u001b[38;5;28;01mif\u001b[39;00m \u001b[38;5;129;01mnot\u001b[39;00m (path / \u001b[33m\"\u001b[39m\u001b[33mvocab\u001b[39m\u001b[33m\"\u001b[39m).exists() \u001b[38;5;129;01mand\u001b[39;00m \u001b[33m\"\u001b[39m\u001b[33mvocab\u001b[39m\u001b[33m\"\u001b[39m \u001b[38;5;129;01mnot\u001b[39;00m \u001b[38;5;129;01min\u001b[39;00m exclude:  \u001b[38;5;66;03m# type: ignore[operator]\u001b[39;00m\n\u001b[32m   2244\u001b[39m     \u001b[38;5;66;03m# Convert to list here in case exclude is (default) tuple\u001b[39;00m\n\u001b[32m   2245\u001b[39m     exclude = \u001b[38;5;28mlist\u001b[39m(exclude) + [\u001b[33m\"\u001b[39m\u001b[33mvocab\u001b[39m\u001b[33m\"\u001b[39m]\n\u001b[32m-> \u001b[39m\u001b[32m2246\u001b[39m \u001b[43mutil\u001b[49m\u001b[43m.\u001b[49m\u001b[43mfrom_disk\u001b[49m\u001b[43m(\u001b[49m\u001b[43mpath\u001b[49m\u001b[43m,\u001b[49m\u001b[43m \u001b[49m\u001b[43mdeserializers\u001b[49m\u001b[43m,\u001b[49m\u001b[43m \u001b[49m\u001b[43mexclude\u001b[49m\u001b[43m)\u001b[49m  \u001b[38;5;66;03m# type: ignore[arg-type]\u001b[39;00m\n\u001b[32m   2247\u001b[39m \u001b[38;5;28mself\u001b[39m._path = path  \u001b[38;5;66;03m# type: ignore[assignment]\u001b[39;00m\n\u001b[32m   2248\u001b[39m \u001b[38;5;28mself\u001b[39m._link_components()\n",
            "\u001b[36mFile \u001b[39m\u001b[32mh:\\VScode\\CapStoneProject_2025-1\\.venv\\Lib\\site-packages\\spacy\\util.py:1390\u001b[39m, in \u001b[36mfrom_disk\u001b[39m\u001b[34m(path, readers, exclude)\u001b[39m\n\u001b[32m   1387\u001b[39m \u001b[38;5;28;01mfor\u001b[39;00m key, reader \u001b[38;5;129;01min\u001b[39;00m readers.items():\n\u001b[32m   1388\u001b[39m     \u001b[38;5;66;03m# Split to support file names like meta.json\u001b[39;00m\n\u001b[32m   1389\u001b[39m     \u001b[38;5;28;01mif\u001b[39;00m key.split(\u001b[33m\"\u001b[39m\u001b[33m.\u001b[39m\u001b[33m\"\u001b[39m)[\u001b[32m0\u001b[39m] \u001b[38;5;129;01mnot\u001b[39;00m \u001b[38;5;129;01min\u001b[39;00m exclude:\n\u001b[32m-> \u001b[39m\u001b[32m1390\u001b[39m         \u001b[43mreader\u001b[49m\u001b[43m(\u001b[49m\u001b[43mpath\u001b[49m\u001b[43m \u001b[49m\u001b[43m/\u001b[49m\u001b[43m \u001b[49m\u001b[43mkey\u001b[49m\u001b[43m)\u001b[49m\n\u001b[32m   1391\u001b[39m \u001b[38;5;28;01mreturn\u001b[39;00m path\n",
            "\u001b[36mFile \u001b[39m\u001b[32mh:\\VScode\\CapStoneProject_2025-1\\.venv\\Lib\\site-packages\\spacy\\language.py:2240\u001b[39m, in \u001b[36mLanguage.from_disk.<locals>.<lambda>\u001b[39m\u001b[34m(p, proc)\u001b[39m\n\u001b[32m   2238\u001b[39m     \u001b[38;5;28;01mif\u001b[39;00m \u001b[38;5;129;01mnot\u001b[39;00m \u001b[38;5;28mhasattr\u001b[39m(proc, \u001b[33m\"\u001b[39m\u001b[33mfrom_disk\u001b[39m\u001b[33m\"\u001b[39m):\n\u001b[32m   2239\u001b[39m         \u001b[38;5;28;01mcontinue\u001b[39;00m\n\u001b[32m-> \u001b[39m\u001b[32m2240\u001b[39m     deserializers[name] = \u001b[38;5;28;01mlambda\u001b[39;00m p, proc=proc: \u001b[43mproc\u001b[49m\u001b[43m.\u001b[49m\u001b[43mfrom_disk\u001b[49m\u001b[43m(\u001b[49m\u001b[43m  \u001b[49m\u001b[38;5;66;43;03m# type: ignore[misc]\u001b[39;49;00m\n\u001b[32m   2241\u001b[39m \u001b[43m        \u001b[49m\u001b[43mp\u001b[49m\u001b[43m,\u001b[49m\u001b[43m \u001b[49m\u001b[43mexclude\u001b[49m\u001b[43m=\u001b[49m\u001b[43m[\u001b[49m\u001b[33;43m\"\u001b[39;49m\u001b[33;43mvocab\u001b[39;49m\u001b[33;43m\"\u001b[39;49m\u001b[43m]\u001b[49m\n\u001b[32m   2242\u001b[39m \u001b[43m    \u001b[49m\u001b[43m)\u001b[49m\n\u001b[32m   2243\u001b[39m \u001b[38;5;28;01mif\u001b[39;00m \u001b[38;5;129;01mnot\u001b[39;00m (path / \u001b[33m\"\u001b[39m\u001b[33mvocab\u001b[39m\u001b[33m\"\u001b[39m).exists() \u001b[38;5;129;01mand\u001b[39;00m \u001b[33m\"\u001b[39m\u001b[33mvocab\u001b[39m\u001b[33m\"\u001b[39m \u001b[38;5;129;01mnot\u001b[39;00m \u001b[38;5;129;01min\u001b[39;00m exclude:  \u001b[38;5;66;03m# type: ignore[operator]\u001b[39;00m\n\u001b[32m   2244\u001b[39m     \u001b[38;5;66;03m# Convert to list here in case exclude is (default) tuple\u001b[39;00m\n\u001b[32m   2245\u001b[39m     exclude = \u001b[38;5;28mlist\u001b[39m(exclude) + [\u001b[33m\"\u001b[39m\u001b[33mvocab\u001b[39m\u001b[33m\"\u001b[39m]\n",
            "\u001b[36mFile \u001b[39m\u001b[32mh:\\VScode\\CapStoneProject_2025-1\\.venv\\Lib\\site-packages\\spacy\\pipeline\\trainable_pipe.pyx:343\u001b[39m, in \u001b[36mspacy.pipeline.trainable_pipe.TrainablePipe.from_disk\u001b[39m\u001b[34m()\u001b[39m\n",
            "\u001b[36mFile \u001b[39m\u001b[32mh:\\VScode\\CapStoneProject_2025-1\\.venv\\Lib\\site-packages\\spacy\\util.py:1390\u001b[39m, in \u001b[36mfrom_disk\u001b[39m\u001b[34m(path, readers, exclude)\u001b[39m\n\u001b[32m   1387\u001b[39m \u001b[38;5;28;01mfor\u001b[39;00m key, reader \u001b[38;5;129;01min\u001b[39;00m readers.items():\n\u001b[32m   1388\u001b[39m     \u001b[38;5;66;03m# Split to support file names like meta.json\u001b[39;00m\n\u001b[32m   1389\u001b[39m     \u001b[38;5;28;01mif\u001b[39;00m key.split(\u001b[33m\"\u001b[39m\u001b[33m.\u001b[39m\u001b[33m\"\u001b[39m)[\u001b[32m0\u001b[39m] \u001b[38;5;129;01mnot\u001b[39;00m \u001b[38;5;129;01min\u001b[39;00m exclude:\n\u001b[32m-> \u001b[39m\u001b[32m1390\u001b[39m         \u001b[43mreader\u001b[49m\u001b[43m(\u001b[49m\u001b[43mpath\u001b[49m\u001b[43m \u001b[49m\u001b[43m/\u001b[49m\u001b[43m \u001b[49m\u001b[43mkey\u001b[49m\u001b[43m)\u001b[49m\n\u001b[32m   1391\u001b[39m \u001b[38;5;28;01mreturn\u001b[39;00m path\n",
            "\u001b[36mFile \u001b[39m\u001b[32mh:\\VScode\\CapStoneProject_2025-1\\.venv\\Lib\\site-packages\\spacy\\pipeline\\trainable_pipe.pyx:333\u001b[39m, in \u001b[36mspacy.pipeline.trainable_pipe.TrainablePipe.from_disk.load_model\u001b[39m\u001b[34m()\u001b[39m\n",
            "\u001b[36mFile \u001b[39m\u001b[32mh:\\VScode\\CapStoneProject_2025-1\\.venv\\Lib\\site-packages\\spacy\\pipeline\\trainable_pipe.pyx:334\u001b[39m, in \u001b[36mspacy.pipeline.trainable_pipe.TrainablePipe.from_disk.load_model\u001b[39m\u001b[34m()\u001b[39m\n",
            "\u001b[36mFile \u001b[39m\u001b[32mh:\\VScode\\CapStoneProject_2025-1\\.venv\\Lib\\site-packages\\thinc\\model.py:638\u001b[39m, in \u001b[36mModel.from_bytes\u001b[39m\u001b[34m(self, bytes_data)\u001b[39m\n\u001b[32m    636\u001b[39m msg = srsly.msgpack_loads(bytes_data)\n\u001b[32m    637\u001b[39m msg = convert_recursive(is_xp_array, \u001b[38;5;28mself\u001b[39m.ops.asarray, msg)\n\u001b[32m--> \u001b[39m\u001b[32m638\u001b[39m \u001b[38;5;28;01mreturn\u001b[39;00m \u001b[38;5;28;43mself\u001b[39;49m\u001b[43m.\u001b[49m\u001b[43mfrom_dict\u001b[49m\u001b[43m(\u001b[49m\u001b[43mmsg\u001b[49m\u001b[43m)\u001b[49m\n",
            "\u001b[36mFile \u001b[39m\u001b[32mh:\\VScode\\CapStoneProject_2025-1\\.venv\\Lib\\site-packages\\thinc\\model.py:673\u001b[39m, in \u001b[36mModel.from_dict\u001b[39m\u001b[34m(self, msg)\u001b[39m\n\u001b[32m    671\u001b[39m \u001b[38;5;28;01mfor\u001b[39;00m param_name, value \u001b[38;5;129;01min\u001b[39;00m msg[\u001b[33m\"\u001b[39m\u001b[33mparams\u001b[39m\u001b[33m\"\u001b[39m][i].items():\n\u001b[32m    672\u001b[39m     \u001b[38;5;28;01mif\u001b[39;00m value \u001b[38;5;129;01mis\u001b[39;00m \u001b[38;5;129;01mnot\u001b[39;00m \u001b[38;5;28;01mNone\u001b[39;00m:\n\u001b[32m--> \u001b[39m\u001b[32m673\u001b[39m         value = \u001b[43mnode\u001b[49m\u001b[43m.\u001b[49m\u001b[43mops\u001b[49m\u001b[43m.\u001b[49m\u001b[43masarray\u001b[49m\u001b[43m(\u001b[49m\u001b[43mvalue\u001b[49m\u001b[43m)\u001b[49m\u001b[43m.\u001b[49m\u001b[43mcopy\u001b[49m\u001b[43m(\u001b[49m\u001b[43m)\u001b[49m\n\u001b[32m    674\u001b[39m     node.set_param(param_name, value)\n\u001b[32m    675\u001b[39m \u001b[38;5;28;01mfor\u001b[39;00m i, shim_bytes \u001b[38;5;129;01min\u001b[39;00m \u001b[38;5;28menumerate\u001b[39m(msg[\u001b[33m\"\u001b[39m\u001b[33mshims\u001b[39m\u001b[33m\"\u001b[39m][i]):\n",
            "\u001b[31mKeyboardInterrupt\u001b[39m: "
          ]
        }
      ],
      "source": [
        "import spacy\n",
        "\n",
        "def extract_locations(text):\n",
        "    nlp = spacy.load(\"en_core_web_sm\")\n",
        "    doc = nlp(text)\n",
        "    locations = [ent.text for ent in doc.ents if ent.label_ == \"GPE\"]\n",
        "    return locations\n",
        "\n",
        "# create column with locations\n",
        "source_df['locations'] = source_df['cleaned_text'].apply(extract_locations)\n",
        "\n",
        "# produce a visualisation of the most common locations\n",
        "from collections import Counter\n",
        "from wordcloud import WordCloud\n",
        "import matplotlib.pyplot as plt\n",
        "\n",
        "locations = source_df['locations'].explode().dropna()\n",
        "location_counts = Counter(locations)\n",
        "\n",
        "wordcloud = WordCloud(width=800, height=400, background_color ='white').generate_from_frequencies(location_counts)\n",
        "plt.figure(figsize=(10, 8))\n",
        "plt.imshow(wordcloud, interpolation='bilinear')\n",
        "plt.axis(\"off\")\n",
        "plt.show()\n",
        "\n"
      ]
    }
  ],
  "metadata": {
    "accelerator": "GPU",
    "colab": {
      "name": "Data Practitioner Jupyter Notebook.ipynb",
      "provenance": [],
      "toc_visible": true
    },
    "kernelspec": {
      "display_name": "Python 3",
      "language": "python",
      "name": "python3"
    },
    "language_info": {
      "codemirror_mode": {
        "name": "ipython",
        "version": 3
      },
      "file_extension": ".py",
      "mimetype": "text/x-python",
      "name": "python",
      "nbconvert_exporter": "python",
      "pygments_lexer": "ipython3",
      "version": "3.10.11"
    },
    "orig_nbformat": 2
  },
  "nbformat": 4,
  "nbformat_minor": 2
}

{
  "cells": [
    {
      "cell_type": "markdown",
      "metadata": {
        "id": "0aStgWSO0E0E"
      },
      "source": [
        "# **Paul Golder - Capstone Project March 2025**"
      ]
    },
    {
      "cell_type": "markdown",
      "metadata": {
        "id": "1eLEkw5O0ECa"
      },
      "source": [
        "## Objectives\n",
        "\n",
        "* Using Generative AI - Create a persona or several personas to represent clients and generate requirements for a dashboard.\n",
        "\n",
        "## Inputs\n",
        "\n",
        "* None this is currently more of a conversation storage point.\n",
        "\n",
        "## Outputs\n",
        "\n",
        "* User Stories to be translated into acceptance criteria\n",
        "\n",
        "## Additional Comments\n",
        "\n",
        "* If you have any additional comments that don't fit in the previous bullets, please state them here. \n",
        "\n"
      ]
    },
    {
      "cell_type": "markdown",
      "metadata": {
        "id": "9uWZXH9LwoQg"
      },
      "source": [
        "---"
      ]
    },
    {
      "cell_type": "markdown",
      "metadata": {
        "id": "cqP-UeN-z3i2"
      },
      "source": [
        "# Change working directory"
      ]
    },
    {
      "cell_type": "code",
      "execution_count": 1,
      "metadata": {
        "id": "wZfF_j-Bz3i4",
        "outputId": "66943449-1436-4c3d-85c7-b85f9f78349b"
      },
      "outputs": [
        {
          "data": {
            "text/plain": [
              "'h:\\\\VScode\\\\CapStoneProject_2025\\\\Requirements'"
            ]
          },
          "execution_count": 1,
          "metadata": {},
          "output_type": "execute_result"
        }
      ],
      "source": [
        "import os\n",
        "current_dir = os.getcwd()\n",
        "current_dir"
      ]
    },
    {
      "cell_type": "code",
      "execution_count": 2,
      "metadata": {
        "id": "TwHsQRWjz3i9",
        "outputId": "86849db3-cd2f-4cc5-ebb8-2d0caafa1a2c"
      },
      "outputs": [
        {
          "name": "stdout",
          "output_type": "stream",
          "text": [
            "The file README.md does not exist in the current directory\n",
            "You are in the directory:  h:\\VScode\\CapStoneProject_2025\\Requirements\n",
            "Changing current directory to its parent directory\n",
            "You set a new current directory\n",
            "The file README.md exists in the current directory\n"
          ]
        }
      ],
      "source": [
        "# check current directory contains the file README.md\n",
        "if os.path.exists(\"README.md\"):\n",
        "    print(\"The file README.md exists in the current directory\")\n",
        "else:\n",
        "    print(\"The file README.md does not exist in the current directory\")\n",
        "    print(\"You are in the directory: \", current_dir)\n",
        "    print(\"Changing current directory to its parent directory\")\n",
        "    os.chdir(os.path.dirname(current_dir))\n",
        "    print(\"You set a new current directory\")\n",
        "    current_dir = os.getcwd()\n",
        "    if os.path.exists(\"README.md\"):\n",
        "        print(\"The file README.md exists in the current directory\")\n",
        "    else:\n",
        "        RuntimeError(\"The file README.md does not exist in the current directory, please check the current directory\")\n",
        "        print(\"Current Directory =\", current_dir)"
      ]
    },
    {
      "cell_type": "markdown",
      "metadata": {
        "id": "-mavJ8DibrcQ"
      },
      "source": [
        "# OpenAI - Requirements gathering"
      ]
    },
    {
      "cell_type": "markdown",
      "metadata": {},
      "source": [
        "Section 1 content"
      ]
    },
    {
      "cell_type": "markdown",
      "metadata": {},
      "source": [
        "Request - using the persona of a general member of the public please identify what information they might wish to see on a dashboard associated with identifying Real news from Fakenews\n",
        "\n",
        "Response - \n",
        "\n",
        "If a general member of the public were using a dashboard to help identify real news from fake news, they would likely want to see the following information:\n",
        "\n",
        "1. News Credibility Score\n",
        "A rating system (e.g., High, Medium, Low credibility)\n",
        "A trust score based on fact-checking sources\n",
        "Indicators showing how reputable the news source is\n",
        "2. Fact-Checking Insights\n",
        "Verification status (Fact-checked ✅ / Needs Verification ⚠️)\n",
        "Links to fact-checking websites (e.g., Snopes, PolitiFact, BBC Reality Check)\n",
        "AI-detected misinformation patterns\n",
        "3. Source Details\n",
        "Publisher information (news agency, independent blogger, etc.)\n",
        "Political or ideological bias indicator\n",
        "History of previous misinformation (if any)\n",
        "4. User & Expert Opinions\n",
        "Community feedback (votes on credibility)\n",
        "Comments or user reports of fake news\n",
        "Expert journalist reviews\n",
        "5. AI-Based Analysis\n",
        "Sentiment analysis (neutral, biased, inflammatory, etc.)\n",
        "Image/video verification (deepfake detection, reverse image search)\n",
        "Similar articles comparison for cross-referencing sources\n",
        "6. Trending Fake News Alerts\n",
        "List of recently debunked fake news stories\n",
        "Misinformation trends (e.g., common false claims circulating)\n",
        "Alerts for viral fake news\n",
        "7. How to Spot Fake News (Educational Section)\n",
        "Tips on identifying misinformation\n",
        "Common fake news tactics (clickbait, manipulated images, etc.)\n",
        "Interactive quizzes to test user knowledge"
      ]
    },
    {
      "cell_type": "markdown",
      "metadata": {},
      "source": [
        "You are Joe Bloggs a 25 year old office worker who is interested in being able to confirm if a news story is Real or Fake - you have been approached by a Julia Dempsy a reporter on IT and Data issues  to ask your opinions on what functionality you would like to see on a public facing dashboard that has been trained to provide an estimate on wether a news story is Real or Fake and also to provide useful metrics on the level, scale and nature of previous fake news items\n",
        "\n",
        "Joe Bloggs' Response to Julia Dempsey (IT and Data Reporter):\n",
        "\n",
        "\"Hi Julia, thanks for reaching out! As someone who spends a lot of time online, I’d love a dashboard that makes it easy for everyday people like me to quickly check if a news story is real or fake. Here’s what I’d want to see and how it could help me make better judgments:\"\n",
        "\n",
        "1. Quick Trust Score & Rating System\n",
        "A simple traffic light system (Green = Likely Real, Yellow = Unverified, Red = Likely Fake).\n",
        "A percentage-based trust score based on AI analysis and fact-checking sources.\n",
        "A “Confidence Level” indicator showing how certain the system is about its assessment.\n",
        "2. Fact-Checking & Source Analysis\n",
        "Links to major fact-checking websites (e.g., Snopes, PolitiFact, BBC Reality Check).\n",
        "A summary of key fact-checked points in the article.\n",
        "Information on the news source, including any history of publishing false stories.\n",
        "3. Bias & Manipulation Detection\n",
        "A breakdown of potential political or ideological bias in the article.\n",
        "Sentiment analysis (Is it overly emotional or neutral?).\n",
        "AI detection of misleading language, clickbait, or exaggeration.\n",
        "4. Fake News Trends & Warnings\n",
        "A list of trending fake news stories circulating right now.\n",
        "Alerts for viral misinformation and debunked claims.\n",
        "An interactive map showing where fake news is spreading most.\n",
        "5. Image & Video Verification\n",
        "Reverse image search integration to see if a photo has been used out of context.\n",
        "AI detection of manipulated images or deepfakes.\n",
        "A credibility check for videos, detecting edited or misleading clips.\n",
        "6. Community & Expert Reviews\n",
        "A “User Reports” section showing how many people flagged a story as fake.\n",
        "A credibility ranking system where journalists, experts, and the public can contribute.\n",
        "A way to submit suspicious articles for fact-checking.\n",
        "7. Educational Tools\n",
        "A quick guide on “How to Spot Fake News.”\n",
        "Interactive quizzes to help users improve their fake news detection skills.\n",
        "A weekly “Fake News Roundup” showing the biggest misinformation stories exposed.\n",
        "\n",
        "\"I think a dashboard like this would be incredibly useful, especially for people who don’t have time to do deep research on every news story. The key thing is making it simple, fast, and accessible for anyone to use.\"\n",
        "\n",
        "\"Would love to hear your thoughts on this—does this align with what you’re looking for?\""
      ]
    },
    {
      "cell_type": "markdown",
      "metadata": {},
      "source": [
        "Through discussion The IT team have decided to build the initial model based of Real/Fake news datasets available on Kaggle and then potentially link it one or several of the API's to provide recent data for display on the dashboard whilst providing users the opportunity to provide a URL or text sample to the dashboard for scoring - You are now Julia Dempsy and need to highlight the most relevant requirements from Joes feedback, enhance them with your knowledge of the sector , and feedback from IT and make a requirements request to your IT team who have 4 days available to deliver the dashboard using python.. the learning model has not been developed yet and potential existing sources for some of Joe's requirements would help them to meet more requirements with out needing to go to first principles on all of them.\n",
        "\n",
        "**Subject:** Requirements for Fake News Detection Dashboard (4-Day Build)\n",
        "\n",
        "**Team,**\n",
        "\n",
        "Based on feedback from potential users and industry knowledge, we need a public-facing dashboard to help users verify the credibility of news stories. You have **4 days** to build a functional prototype in **Python**. The learning model will be initially built using **Real/Fake news datasets from Kaggle**, with the potential to integrate **fact-checking APIs** for real-time data. Users will also have the ability to **input a news article URL or text snippet** for analysis. Below are the **updated core requirements**:\n",
        "\n",
        "---\n",
        "\n",
        "### **1. Dashboard Overview & UI/UX**\n",
        "- Simple, intuitive UI with a **trust score indicator** (e.g., traffic light system or percentage-based confidence level).\n",
        "- Users should be able to enter a **news article URL or text snippet** for evaluation.\n",
        "- Mobile-friendly and accessible design.\n",
        "\n",
        "### **2. Fact-Checking & Source Verification**\n",
        "- **Integrate with existing fact-checking APIs** (e.g., Snopes, PolitiFact, FactCheck.org) to retrieve existing evaluations.\n",
        "- Display **source credibility history** (e.g., Media Bias Fact Check, NewsGuard API if available).\n",
        "- Link model-generated predictions with real-time API results where possible.\n",
        "\n",
        "### **3. Machine Learning Model (Initial Phase)**\n",
        "- Train a **binary classification model** on Kaggle's **Real/Fake news datasets**.\n",
        "- Use **TF-IDF, word embeddings, or transformer-based NLP models** for classification.\n",
        "- Implement model inference for **user-submitted URLs or text samples**.\n",
        "\n",
        "### **4. Bias & Manipulation Analysis**\n",
        "- Implement **basic NLP sentiment analysis** (positive, neutral, negative) using libraries like **NLTK or TextBlob**.\n",
        "- Detect **clickbait-style headlines** (e.g., based on word patterns from datasets like Clickbait Challenge).\n",
        "\n",
        "### **5. Fake News Trends & Alerts**\n",
        "- Show a **real-time list of trending fake news stories** using sources like **Google Fact Check Tools** or Twitter API.\n",
        "- Display a **heatmap of misinformation spread** (if location-based misinformation data is available).\n",
        "\n",
        "### **6. Image & Video Verification (Stretch Goal)**\n",
        "- Integrate **Google Reverse Image Search API** or tools like TinEye.\n",
        "- Investigate **deepfake detection** models (e.g., Deepware Scanner API) for future implementation.\n",
        "\n",
        "### **7. Community & Expert Input**\n",
        "- Allow users to **flag articles** as suspicious (store in a database for future analysis).\n",
        "- Display community votes (e.g., \"Trusted\" vs. \"Unverified\") with moderation controls.\n",
        "\n",
        "### **8. Educational Tools**\n",
        "- Provide a short, interactive **\"How to Spot Fake News\" guide**.\n",
        "- Weekly updates on **major misinformation trends**.\n",
        "\n",
        "---\n",
        "\n",
        "### **Tech Stack Recommendation**\n",
        "- **Backend:** Flask or FastAPI for API handling.\n",
        "- **Frontend:** Streamlit (fastest for a 4-day build).\n",
        "- **Data Processing:** Pandas, NLTK, TextBlob for NLP.\n",
        "- **Machine Learning:** Scikit-learn, TensorFlow, or Hugging Face transformers.\n",
        "- **APIs:** Snopes, PolitiFact, Google Fact Check Tools, Media Bias Fact Check (if accessible).\n",
        "- **Storage:** SQLite or Firebase for tracking flagged articles.\n",
        "\n",
        "**Next Steps:**\n",
        "1. Train an initial model using **Kaggle datasets**.\n",
        "2. Confirm availability of fact-checking APIs.\n",
        "3. Assign core tasks based on expertise.\n",
        "4. Deliver a working prototype by **Day 4**.\n",
        "\n",
        "Let me know if you need further clarification.\n",
        "\n",
        "**Best,**  \n",
        "Julia Dempsey"
      ]
    },
    {
      "cell_type": "markdown",
      "metadata": {
        "id": "ZY3l0-AxO93d"
      },
      "source": [
        "---"
      ]
    },
    {
      "cell_type": "markdown",
      "metadata": {},
      "source": [
        "Identified potential data sources for over time data"
      ]
    },
    {
      "cell_type": "markdown",
      "metadata": {},
      "source": [
        "https://www.debunk.org/?gad_source=1&gclid=CjwKCAjwvr--BhB5EiwAd5YbXs1x7Q9xNloMlUT7hUFllO27GXSkWOvoQ5uIPB62zLv3Akwvy3XdiBoCvZEQAvD_BwE\n",
        "\n",
        "https://github.com/Webhose/fake-news-dataset.\n",
        "\n",
        "https://core.unesco.org/en/home"
      ]
    },
    {
      "cell_type": "markdown",
      "metadata": {},
      "source": [
        "Kaggle Training Datasets"
      ]
    },
    {
      "cell_type": "markdown",
      "metadata": {},
      "source": [
        "### Asked copilot to reformat this for readability it failed.. so then asked ChatGpt\n",
        "\n",
        "# Fake News Datasets from Kaggle\n",
        "\n",
        "## [BBC Articles Dataset](https://www.kaggle.com/datasets/jacopoferretti/bbc-articles-dataset)\n",
        "### **Files and Structure**\n",
        "- **bbc_news_text_complexity_summarization.csv** (2127 records)\n",
        "  - `text`\n",
        "  - `labels` (article type)\n",
        "  - `no_sentences`\n",
        "  - `flesch_reading_ease`\n",
        "  - `dale_chall_readability`\n",
        "  - `text_rank_summary`\n",
        "  - `ISA_summary`\n",
        "- **bbc_text_cls.csv** (2127 records)\n",
        "  - `text`\n",
        "  - `label`\n",
        "- **bbc_news_data.csv** (2092 records)\n",
        "  - `category`\n",
        "  - `filename`\n",
        "  - `title`\n",
        "  - `content`\n",
        "\n",
        "## [Fake News Classification Dataset](https://www.kaggle.com/datasets/aadyasingh55/fake-news-classification)\n",
        "### **Files and Structure**\n",
        "- **evaluation.csv** (8117 records)\n",
        "- **test.csv** (8117 records)\n",
        "- **train.csv** (24352 records)\n",
        "  - `index`\n",
        "  - `title`\n",
        "  - `text`\n",
        "  - `label`\n",
        "\n",
        "## [Fake or Real News Dataset](https://www.kaggle.com/datasets/nitishjolly/news-detection-fake-or-real-dataset)\n",
        "### **Files and Structure**\n",
        "- **fake_and_real_news.csv** (9865 records)\n",
        "  - `text`\n",
        "  - `label` (real / fake)\n",
        "\n",
        "## [AI vs Human Text Dataset](https://www.kaggle.com/datasets/shanegerami/ai-vs-human-text)\n",
        "### **Files and Structure**\n",
        "- **Ai_Human.csv** (487,235 records)\n",
        "  - `Text`\n",
        "  - `Generated` (1 = AI, 0 = human)\n",
        "\n",
        "## [Fake News Detection (2015-2017)](https://www.kaggle.com/datasets/bhavikjikadara/fake-news-detection)\n",
        "### **Files and Structure**\n",
        "- **fake.csv** (17,903 records)\n",
        "- **true.csv** (21,192 records)\n",
        "  - `title` (title of news)\n",
        "  - `text` (description of news, including source)\n",
        "  - `subject` (type of news)\n",
        "  - `date`\n",
        "\n",
        "## [Fake News Dataset](https://www.kaggle.com/datasets/algord/fake-news)\n",
        "### **Files and Structure**\n",
        "- **FakeNewsNet.csv** (22,855 records)\n",
        "  - `title` (title of the article)\n",
        "  - `news_url` (URL of the article)\n",
        "  - `source_domain` (web domain where the article was posted)\n",
        "  - `tweet_num` (number of retweets for this article)\n",
        "  - `real` (label column, where 1 is real and 0 is fake)\n",
        "\n",
        "## [PolitiFact Fact-Check Dataset](https://www.kaggle.com/datasets/rmisra/politifact-fact-check-dataset)\n",
        "### **Files and Structure**\n",
        "- **politifact_factcheck_data.json** (21,152 records)\n",
        "  - `verdict` (one of {true, mostly-true, half-true, mostly-false, false, pants-fire})\n",
        "  - `statement_originator` (person who made the statement being fact-checked)\n",
        "  - `statement`\n",
        "  - `statement_date`\n",
        "  - `statement_source` (one of {speech, television, news, blog, social_media, etc.})\n",
        "  - `factchecker` (name of fact-checker)\n",
        "  - `factcheck_date`\n",
        "  - `factcheck_analysis_link`\n",
        "\n",
        "## [Misinformation & Fake News Text Dataset (79K)](https://www.kaggle.com/datasets/stevenpeutz/misinformation-fake-news-text-dataset-79k)\n",
        "### **Files and Structure**\n",
        "- **MisinfoSuperSet_True.csv**\n",
        "- **MisinfoSuperSet_False.csv**\n",
        "- **EXTRA_RussianPropergandaSubset.csv**\n",
        "  - `Index`\n",
        "  - `Text`\n",
        "\n",
        "## [Non-English Fake News Dataset](https://www.kaggle.com/datasets/cryptexcode/banfakenews)\n",
        "### **Files and Structure**\n",
        "- **Authentic-48K.csv**\n",
        "- **Fake-1K.csv**\n",
        "- **LabeledAuthentic-7K.csv**\n",
        "- **LabeledFake-1K.csv**\n",
        "#### **Column Structure**\n",
        "- `articleID` (ID of the news)\n",
        "- `domain` (News publisher's site name)\n",
        "- `date` (Category of the news)\n",
        "- `category` (Category of the news)\n",
        "- `headline`\n",
        "- `content` (Article or body of the news)\n",
        "- `label` (1 for authentic, 0 for fake)\n",
        "- **For Labeled Datasets**\n",
        "  - `source` (who can verify the claim)\n",
        "  - `relation` (Related or Unrelated)\n",
        "  - `F-type` (Type of fake news: Clickbait, Satire, Misleading)\n",
        "\n",
        "## [Fake/Real News Dataset (2013-2020)](https://www.kaggle.com/datasets/techykajal/fakereal-news)\n",
        "### **Files and Structure**\n",
        "- **New Task.csv** (9960 records)\n",
        "  - `News_Headline`\n",
        "  - `Link_Of_News`\n",
        "  - `Source` (author of the post)\n",
        "  - `Stated_On` (date posted on social media)\n",
        "  - `Date` (date analyzed by fact-checkers)\n",
        "  - `Label` (True, Mostly-True, Half-True, Barely-True, False, Pants on Fire)\n",
        "\n",
        "## [Fake News Dataset Around the Syrian War (2014-2018)](https://www.kaggle.com/datasets/mohamadalhasan/a-fake-news-dataset-around-the-syrian-war)\n",
        "### **Files and Structure**\n",
        "- **FA-Kes-Dataset.csv** (774 records)\n",
        "  - `Index`\n",
        "  - `Title_of_Article`\n",
        "  - `article_content`\n",
        "  - `source`\n",
        "  - `date`\n",
        "  - `location`\n",
        "  - `Label`\n",
        "\n"
      ]
    },
    {
      "cell_type": "markdown",
      "metadata": {},
      "source": [
        "## Data file decision"
      ]
    },
    {
      "cell_type": "markdown",
      "metadata": {},
      "source": [
        "Following a top line review of the available datasets - it has been decided to start with - \n",
        "\n",
        "## [Fake News Detection (2015-2017)](https://www.kaggle.com/datasets/bhavikjikadara/fake-news-detection)\n",
        "### **Files and Structure**\n",
        "- **fake.csv** (17,903 records)\n",
        "- **true.csv** (21,192 records)\n",
        "  - `title` (title of news)\n",
        "  - `text` (description of news, including source)\n",
        "  - `subject` (type of news)\n",
        "  - `date`\n",
        "    \n",
        "As it contains a date and a sizeable dataset.\n",
        "\n",
        "The next step will be to get the data, combine the two files with labels added for fake and true.  Then review the cleanliness, implement data cleansing and start analysis."
      ]
    }
  ],
  "metadata": {
    "accelerator": "GPU",
    "colab": {
      "name": "Data Practitioner Jupyter Notebook.ipynb",
      "provenance": [],
      "toc_visible": true
    },
    "kernelspec": {
      "display_name": ".venv",
      "language": "python",
      "name": "python3"
    },
    "language_info": {
      "codemirror_mode": {
        "name": "ipython",
        "version": 3
      },
      "file_extension": ".py",
      "mimetype": "text/x-python",
      "name": "python",
      "nbconvert_exporter": "python",
      "pygments_lexer": "ipython3",
      "version": "3.12.2"
    },
    "orig_nbformat": 2
  },
  "nbformat": 4,
  "nbformat_minor": 2
}
